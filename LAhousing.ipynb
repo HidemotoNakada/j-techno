{
 "cells": [
  {
   "cell_type": "markdown",
   "metadata": {},
   "source": [
    "# カリフォルニア住宅価格データセット\n",
    "- さまざまな項目からブロック内の**住宅価格の中央値**を予想する\n",
    "    - MedInc 所得中央値\n",
    "    - HouseAge 平均築年数\n",
    "    - AveRooms 平均部屋数\n",
    "    - AveBedrms 平均ベッドルーム数\n",
    "    - Population 人口\n",
    "    - AveOccup 平均世帯人数\n",
    "    - Latitude 緯度\n",
    "    - Longitude 軽度\n",
    "\n",
    "\n"
   ]
  },
  {
   "cell_type": "code",
   "execution_count": 4,
   "metadata": {},
   "outputs": [],
   "source": [
    "# データセットの取得\n",
    "from sklearn.datasets import fetch_california_housing\n",
    "housing = fetch_california_housing()"
   ]
  },
  {
   "cell_type": "code",
   "execution_count": 15,
   "metadata": {},
   "outputs": [
    {
     "name": "stdout",
     "output_type": "stream",
     "text": [
      "['MedInc', 'HouseAge', 'AveRooms', 'AveBedrms', 'Population', 'AveOccup', 'Latitude', 'Longitude']\n",
      "(20640, 8)\n"
     ]
    }
   ],
   "source": [
    "# 内容の確認\n",
    "print(housing.feature_names)\n",
    "print(housing.data.shape)\n",
    "X = housing.data\n",
    "y = housing.target"
   ]
  },
  {
   "cell_type": "code",
   "execution_count": 25,
   "metadata": {},
   "outputs": [],
   "source": [
    "from sklearn.linear_model import LinearRegression, Ridge, Lasso\n",
    "from sklearn.model_selection import train_test_split"
   ]
  },
  {
   "cell_type": "code",
   "execution_count": 18,
   "metadata": {},
   "outputs": [],
   "source": [
    "X_train, X_test, y_train, y_test = train_test_split(X, y, random_state=1)"
   ]
  },
  {
   "cell_type": "code",
   "execution_count": 22,
   "metadata": {},
   "outputs": [
    {
     "name": "stdout",
     "output_type": "stream",
     "text": [
      "訓練スコア 0.6102859678113064\n",
      "テストスコア 0.592986928576003\n"
     ]
    }
   ],
   "source": [
    "mdl = LinearRegression().fit(X_train, y_train)\n",
    "print(\"訓練スコア\", mdl.score(X_train, y_train))\n",
    "print(\"テストスコア\", mdl.score(X_test, y_test))"
   ]
  },
  {
   "cell_type": "code",
   "execution_count": 26,
   "metadata": {},
   "outputs": [
    {
     "name": "stdout",
     "output_type": "stream",
     "text": [
      "訓練スコア 0.6102859256477542\n",
      "テストスコア 0.592984667157651\n"
     ]
    }
   ],
   "source": [
    "mdl = Ridge().fit(X_train, y_train)\n",
    "print(\"訓練スコア\", mdl.score(X_train, y_train))\n",
    "print(\"テストスコア\", mdl.score(X_test, y_test))\n"
   ]
  },
  {
   "cell_type": "code",
   "execution_count": 27,
   "metadata": {},
   "outputs": [
    {
     "name": "stdout",
     "output_type": "stream",
     "text": [
      "訓練スコア 0.28628419168471997\n",
      "テストスコア 0.28887951253541144\n"
     ]
    }
   ],
   "source": [
    "mdl = Lasso().fit(X_train, y_train)\n",
    "print(\"訓練スコア\", mdl.score(X_train, y_train))\n",
    "print(\"テストスコア\", mdl.score(X_test, y_test))"
   ]
  },
  {
   "cell_type": "code",
   "execution_count": 36,
   "metadata": {},
   "outputs": [
    {
     "name": "stdout",
     "output_type": "stream",
     "text": [
      "2\ttrain: 0.4476762800567027\ttest: 0.4402888155161535\n",
      "3\ttrain: 0.5369734207973751\ttest: 0.5159577576963043\n",
      "4\ttrain: 0.587096279828152\ttest: 0.5671365525573329\n",
      "5\ttrain: 0.6400092316603436\ttest: 0.6140595840918428\n",
      "6\ttrain: 0.6878557970200256\ttest: 0.6486166438088263\n",
      "7\ttrain: 0.7270116809292556\ttest: 0.676460532598538\n",
      "8\ttrain: 0.7727933187019169\ttest: 0.6903889618782366\n",
      "9\ttrain: 0.8116979133551927\ttest: 0.7059451750558865\n",
      "10\ttrain: 0.8448027053913012\ttest: 0.6888636431339225\n",
      "11\ttrain: 0.8757604962296521\ttest: 0.6768157400327564\n",
      "12\ttrain: 0.9022152513931876\ttest: 0.6595698003602006\n",
      "13\ttrain: 0.9272956900092948\ttest: 0.6611120089209137\n",
      "14\ttrain: 0.9479729729930784\ttest: 0.6323467437884467\n"
     ]
    }
   ],
   "source": [
    "from sklearn.tree import DecisionTreeRegressor\n",
    "\n",
    "for max_depth in range(2, 15):\n",
    "    mdl = DecisionTreeRegressor(max_depth=max_depth).fit(X_train, y_train)\n",
    "    print(\"{}\\ttrain: {}\\ttest: {}\".format(max_depth, mdl.score(X_train, y_train), mdl.score(X_test, y_test)))\n"
   ]
  },
  {
   "cell_type": "code",
   "execution_count": null,
   "metadata": {},
   "outputs": [],
   "source": []
  }
 ],
 "metadata": {
  "kernelspec": {
   "display_name": "Python 3.9.12 64-bit ('base')",
   "language": "python",
   "name": "python3"
  },
  "language_info": {
   "codemirror_mode": {
    "name": "ipython",
    "version": 3
   },
   "file_extension": ".py",
   "mimetype": "text/x-python",
   "name": "python",
   "nbconvert_exporter": "python",
   "pygments_lexer": "ipython3",
   "version": "3.9.12"
  },
  "orig_nbformat": 4,
  "vscode": {
   "interpreter": {
    "hash": "b76a7fc8b0eb3dbbbba7561074da9a527f07784f311e8f09221f65192bf914c6"
   }
  }
 },
 "nbformat": 4,
 "nbformat_minor": 2
}
