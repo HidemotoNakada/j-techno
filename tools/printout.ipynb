{
 "cells": [
  {
   "cell_type": "code",
   "execution_count": 2,
   "metadata": {},
   "outputs": [],
   "source": [
    "# まずまとめて html に変換する。\n",
    "# Note jupyter のバージョンが新しくないと動かない。 anaconda3-2022.05なら大丈夫\n"
   ]
  },
  {
   "cell_type": "code",
   "execution_count": 1,
   "metadata": {},
   "outputs": [],
   "source": [
    "import glob\n",
    "import subprocess\n",
    "import os\n",
    "tools_dir = os.getcwd()\n"
   ]
  },
  {
   "cell_type": "code",
   "execution_count": 3,
   "metadata": {},
   "outputs": [],
   "source": [
    "cmd = ['jupyter',  'nbconvert', '--to', 'html', '--output-dir', '../html',\n",
    "'--Exporter.preprocessors',  'regexremove.MyRegexRemovePreprocessor',\n",
    "'--MyRegexRemovePreprocessor.input=^# hide$',\n",
    "'--MyRegexRemovePreprocessor.input=^# hideinput',\n",
    "'--MyRegexRemovePreprocessor.output=^# hideoutput',\n",
    "'--MyRegexRemovePreprocessor.all=^# hideall']\n",
    "\n",
    "env = os.environ\n",
    "env[\"PYTHONPATH\"] = tools_dir\n",
    "def ipynb_to_html(file):\n",
    "    return subprocess.run(cmd + [file], \n",
    "                        env=env, \n",
    "                        capture_output=True)\n"
   ]
  },
  {
   "cell_type": "code",
   "execution_count": 10,
   "metadata": {},
   "outputs": [],
   "source": [
    "notes = glob.glob('../parts/*.ipynb')\n",
    "for note in notes:\n",
    "    proc = ipynb_to_html(note)"
   ]
  },
  {
   "cell_type": "code",
   "execution_count": 1,
   "metadata": {},
   "outputs": [
    {
     "ename": "NameError",
     "evalue": "name 'glob' is not defined",
     "output_type": "error",
     "traceback": [
      "\u001b[0;31m---------------------------------------------------------------------------\u001b[0m",
      "\u001b[0;31mNameError\u001b[0m                                 Traceback (most recent call last)",
      "\u001b[1;32m/Users/nakada/Repos/j-techno/tools/printout.ipynb Cell 5\u001b[0m in \u001b[0;36m<cell line: 1>\u001b[0;34m()\u001b[0m\n\u001b[0;32m----> <a href='vscode-notebook-cell:/Users/nakada/Repos/j-techno/tools/printout.ipynb#W3sZmlsZQ%3D%3D?line=0'>1</a>\u001b[0m notes \u001b[39m=\u001b[39m glob\u001b[39m.\u001b[39mglob(\u001b[39m'\u001b[39m\u001b[39m../parts/[0]*.ipynb\u001b[39m\u001b[39m'\u001b[39m)\n\u001b[1;32m      <a href='vscode-notebook-cell:/Users/nakada/Repos/j-techno/tools/printout.ipynb#W3sZmlsZQ%3D%3D?line=1'>2</a>\u001b[0m \u001b[39mfor\u001b[39;00m note \u001b[39min\u001b[39;00m notes:\n\u001b[1;32m      <a href='vscode-notebook-cell:/Users/nakada/Repos/j-techno/tools/printout.ipynb#W3sZmlsZQ%3D%3D?line=2'>3</a>\u001b[0m     proc \u001b[39m=\u001b[39m ipynb_to_html(note)\n",
      "\u001b[0;31mNameError\u001b[0m: name 'glob' is not defined"
     ]
    }
   ],
   "source": [
    "notes = glob.glob('../parts/[0]*.ipynb')\n",
    "for note in notes:\n",
    "    proc = ipynb_to_html(note)"
   ]
  },
  {
   "cell_type": "markdown",
   "metadata": {},
   "source": [
    "上のコードでHTMLを作成。\n",
    "下のコードでHTMLからPDFを作成。"
   ]
  },
  {
   "cell_type": "code",
   "execution_count": 1,
   "metadata": {},
   "outputs": [],
   "source": [
    "# https://degitalization.hatenablog.jp/entry/2021/03/13/102805 から借用\n",
    "\n",
    "from selenium import webdriver\n",
    "from selenium.webdriver.chrome.options import Options\n",
    "from selenium.webdriver.support.ui import WebDriverWait\n",
    "from selenium.webdriver.support import expected_conditions as EC\n",
    "import json\n",
    "import time\n",
    "import glob\n",
    "from selenium import webdriver\n",
    "from selenium.webdriver.chrome.service import Service as ChromeService\n",
    "from webdriver_manager.chrome import ChromeDriverManager\n",
    " \n",
    "#driver = webdriver.Chrome(service=ChromeService(ChromeDriverManager().install()))\n"
   ]
  },
  {
   "cell_type": "code",
   "execution_count": 2,
   "metadata": {},
   "outputs": [],
   "source": [
    "def PrintSetUp(output_dir):\n",
    "    #印刷としてPDF保存する設定\n",
    "    chopt=webdriver.ChromeOptions()\n",
    "    appState = {\n",
    "        \"recentDestinations\": [\n",
    "            {\n",
    "                \"id\": \"Save as PDF\",\n",
    "                \"origin\": \"local\",\n",
    "                \"account\":\"\"\n",
    "            }\n",
    "        ],\n",
    "        \"selectedDestinationId\": \"Save as PDF\",\n",
    "        \"version\": 2,\n",
    "        \"isLandscapeEnabled\": False, #印刷の向きを指定 tureで横向き、falseで縦向き。\n",
    "        \"pageSize\": 'A4', #用紙タイプ(A3、A4、A5、Legal、 Letter、Tabloidなど)\n",
    "        \"isHeaderFooterEnabled\": False, #ヘッダーとフッター\n",
    "        \"isCssBackgroundEnabled\": True, #背景のグラフィック\n",
    "        \"isCollateEnabled\": True #部単位で印刷\n",
    "    }\n",
    "    \n",
    "    prefs = {'printing.print_preview_sticky_settings.appState':\n",
    "             json.dumps(appState),\n",
    "             \"savefile.default_directory\": output_dir\n",
    "             } #appState --> pref\n",
    "    chopt.add_experimental_option('prefs', prefs) #prefs --> chopt\n",
    "    chopt.add_argument('--kiosk-printing') #印刷ダイアログが開くと、印刷ボタンを無条件に押す。\n",
    "    return chopt"
   ]
  },
  {
   "cell_type": "code",
   "execution_count": 3,
   "metadata": {},
   "outputs": [],
   "source": [
    "def main_WebToPDF(BlogURL, output_dir):\n",
    "    #Web ページもしくはhtmlファイルをPDFにSeleniumを使って変換する\n",
    "    chopt = PrintSetUp(output_dir)\n",
    "    driver_path = \"./chromedriver\" #webdriverのパス\n",
    "    driver = webdriver.Chrome(service=ChromeService(ChromeDriverManager().install()), options=chopt)   \n",
    "#    driver = webdriver.Chrome(options=chopt)\n",
    "#    driver = webdriver.Chrome(executable_path=driver_path, options=chopt)\n",
    "    driver.implicitly_wait(1) # 秒 暗示的待機 \n",
    "    driver.get(BlogURL) #ブログのURL 読み込み\n",
    "    WebDriverWait(driver, 15).until(EC.presence_of_all_elements_located)  # ページ上のすべての要素が読み込まれるまで待機（15秒でタイムアウト判定）\n",
    "    time.sleep(2) #レンダリングを待つ\n",
    "    driver.execute_script('return window.print()') #Print as PDF\n",
    "    time.sleep(1) #ファイルのダウンロードのために10秒待機\n",
    "    driver.quit() #Close Screen"
   ]
  },
  {
   "cell_type": "code",
   "execution_count": 4,
   "metadata": {},
   "outputs": [],
   "source": [
    "from pathlib import Path\n",
    "for html in glob.glob('../html/*.html'):\n",
    "    main_WebToPDF('file://' + str(Path(html).resolve()), str(Path('../pdf').resolve()))\n",
    "    \n",
    "\n"
   ]
  },
  {
   "cell_type": "code",
   "execution_count": null,
   "metadata": {},
   "outputs": [],
   "source": []
  }
 ],
 "metadata": {
  "kernelspec": {
   "display_name": "base",
   "language": "python",
   "name": "python3"
  },
  "language_info": {
   "codemirror_mode": {
    "name": "ipython",
    "version": 3
   },
   "file_extension": ".py",
   "mimetype": "text/x-python",
   "name": "python",
   "nbconvert_exporter": "python",
   "pygments_lexer": "ipython3",
   "version": "3.10.5"
  },
  "orig_nbformat": 4,
  "vscode": {
   "interpreter": {
    "hash": "d69d4c14576bc6cff7b4de4c8595283d8f57e1d51fb0b8ba0be9eef6a6380053"
   }
  }
 },
 "nbformat": 4,
 "nbformat_minor": 2
}
