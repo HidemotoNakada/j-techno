{
 "cells": [
  {
   "cell_type": "code",
   "execution_count": 2,
   "metadata": {},
   "outputs": [],
   "source": [
    "# まずまとめて html に変換する。\n",
    "# Note jupyter のバージョンが新しくないと動かない。 anaconda3-2022.05なら大丈夫\n"
   ]
  },
  {
   "cell_type": "code",
   "execution_count": 2,
   "metadata": {},
   "outputs": [],
   "source": [
    "import glob\n",
    "import subprocess\n",
    "import os\n",
    "tools_dir = os.getcwd()\n"
   ]
  },
  {
   "cell_type": "code",
   "execution_count": 3,
   "metadata": {},
   "outputs": [],
   "source": [
    "cmd = ['jupyter',  'nbconvert', '--to', 'html', '--output-dir', '../html',\n",
    "'--Exporter.preprocessors',  'regexremove.MyRegexRemovePreprocessor',\n",
    "'--MyRegexRemovePreprocessor.input=^# hide$',\n",
    "'--MyRegexRemovePreprocessor.input=^# hideinput',\n",
    "'--MyRegexRemovePreprocessor.output=^# hideoutput',\n",
    "'--MyRegexRemovePreprocessor.all=^# hideall']\n",
    "\n",
    "env = os.environ\n",
    "env[\"PYTHONPATH\"] = tools_dir\n",
    "def ipynb_to_html(file):\n",
    "    return subprocess.run(cmd + [file], \n",
    "                        env=env, \n",
    "                        capture_output=True)\n"
   ]
  },
  {
   "cell_type": "code",
   "execution_count": 10,
   "metadata": {},
   "outputs": [],
   "source": [
    "notes = glob.glob('../parts/*.ipynb')\n",
    "for note in notes:\n",
    "    proc = ipynb_to_html(note)"
   ]
  },
  {
   "cell_type": "code",
   "execution_count": 6,
   "metadata": {},
   "outputs": [],
   "source": [
    "notes = glob.glob('../parts/[0]*.ipynb')\n",
    "for note in notes:\n",
    "    proc = ipynb_to_html(note)"
   ]
  },
  {
   "cell_type": "markdown",
   "metadata": {},
   "source": [
    "上のコードでHTMLを作成。\n",
    "下のコードでHTMLからPDFを作成。"
   ]
  },
  {
   "cell_type": "code",
   "execution_count": 12,
   "metadata": {},
   "outputs": [
    {
     "ename": "ModuleNotFoundError",
     "evalue": "No module named 'webdriver_manager'",
     "output_type": "error",
     "traceback": [
      "\u001b[0;31m---------------------------------------------------------------------------\u001b[0m",
      "\u001b[0;31mModuleNotFoundError\u001b[0m                       Traceback (most recent call last)",
      "\u001b[1;32m/Users/nakada/Repos/j-techno/tools/printout.ipynb Cell 5\u001b[0m in \u001b[0;36m<cell line: 12>\u001b[0;34m()\u001b[0m\n\u001b[1;32m     <a href='vscode-notebook-cell:/Users/nakada/Repos/j-techno/tools/printout.ipynb#W4sZmlsZQ%3D%3D?line=9'>10</a>\u001b[0m \u001b[39mfrom\u001b[39;00m \u001b[39mselenium\u001b[39;00m \u001b[39mimport\u001b[39;00m webdriver\n\u001b[1;32m     <a href='vscode-notebook-cell:/Users/nakada/Repos/j-techno/tools/printout.ipynb#W4sZmlsZQ%3D%3D?line=10'>11</a>\u001b[0m \u001b[39mfrom\u001b[39;00m \u001b[39mselenium\u001b[39;00m\u001b[39m.\u001b[39;00m\u001b[39mwebdriver\u001b[39;00m\u001b[39m.\u001b[39;00m\u001b[39mchrome\u001b[39;00m\u001b[39m.\u001b[39;00m\u001b[39mservice\u001b[39;00m \u001b[39mimport\u001b[39;00m Service \u001b[39mas\u001b[39;00m ChromeService\n\u001b[0;32m---> <a href='vscode-notebook-cell:/Users/nakada/Repos/j-techno/tools/printout.ipynb#W4sZmlsZQ%3D%3D?line=11'>12</a>\u001b[0m \u001b[39mfrom\u001b[39;00m \u001b[39mwebdriver_manager\u001b[39;00m\u001b[39m.\u001b[39;00m\u001b[39mchrome\u001b[39;00m \u001b[39mimport\u001b[39;00m ChromeDriverManager\n",
      "\u001b[0;31mModuleNotFoundError\u001b[0m: No module named 'webdriver_manager'"
     ]
    }
   ],
   "source": [
    "# https://degitalization.hatenablog.jp/entry/2021/03/13/102805 から借用\n",
    "\n",
    "from selenium import webdriver\n",
    "from selenium.webdriver.chrome.options import Options\n",
    "from selenium.webdriver.support.ui import WebDriverWait\n",
    "from selenium.webdriver.support import expected_conditions as EC\n",
    "import json\n",
    "import time\n",
    "\n",
    "from selenium import webdriver\n",
    "from selenium.webdriver.chrome.service import Service as ChromeService\n",
    "from webdriver_manager.chrome import ChromeDriverManager\n",
    " \n",
    "#driver = webdriver.Chrome(service=ChromeService(ChromeDriverManager().install()))\n"
   ]
  },
  {
   "cell_type": "code",
   "execution_count": 13,
   "metadata": {},
   "outputs": [],
   "source": [
    "def PrintSetUp(output_dir):\n",
    "    #印刷としてPDF保存する設定\n",
    "    chopt=webdriver.ChromeOptions()\n",
    "    appState = {\n",
    "        \"recentDestinations\": [\n",
    "            {\n",
    "                \"id\": \"Save as PDF\",\n",
    "                \"origin\": \"local\",\n",
    "                \"account\":\"\"\n",
    "            }\n",
    "        ],\n",
    "        \"selectedDestinationId\": \"Save as PDF\",\n",
    "        \"version\": 2,\n",
    "        \"isLandscapeEnabled\": False, #印刷の向きを指定 tureで横向き、falseで縦向き。\n",
    "        \"pageSize\": 'A4', #用紙タイプ(A3、A4、A5、Legal、 Letter、Tabloidなど)\n",
    "        \"isHeaderFooterEnabled\": False, #ヘッダーとフッター\n",
    "        \"isCssBackgroundEnabled\": True, #背景のグラフィック\n",
    "        \"isCollateEnabled\": True #部単位で印刷\n",
    "    }\n",
    "    \n",
    "    prefs = {'printing.print_preview_sticky_settings.appState':\n",
    "             json.dumps(appState),\n",
    "             \"savefile.default_directory\": output_dir\n",
    "             } #appState --> pref\n",
    "    chopt.add_experimental_option('prefs', prefs) #prefs --> chopt\n",
    "    chopt.add_argument('--kiosk-printing') #印刷ダイアログが開くと、印刷ボタンを無条件に押す。\n",
    "    return chopt"
   ]
  },
  {
   "cell_type": "code",
   "execution_count": 14,
   "metadata": {},
   "outputs": [],
   "source": [
    "def main_WebToPDF(BlogURL, output_dir):\n",
    "    #Web ページもしくはhtmlファイルをPDFにSeleniumを使って変換する\n",
    "    chopt = PrintSetUp(output_dir)\n",
    "    driver_path = \"./chromedriver\" #webdriverのパス\n",
    "    driver = webdriver.Chrome(service=ChromeService(ChromeDriverManager().install()), options=chopt)   \n",
    "#    driver = webdriver.Chrome(options=chopt)\n",
    "#    driver = webdriver.Chrome(executable_path=driver_path, options=chopt)\n",
    "    driver.implicitly_wait(1) # 秒 暗示的待機 \n",
    "    driver.get(BlogURL) #ブログのURL 読み込み\n",
    "    WebDriverWait(driver, 15).until(EC.presence_of_all_elements_located)  # ページ上のすべての要素が読み込まれるまで待機（15秒でタイムアウト判定）\n",
    "    time.sleep(2) #レンダリングを待つ\n",
    "    driver.execute_script('return window.print()') #Print as PDF\n",
    "    time.sleep(1) #ファイルのダウンロードのために10秒待機\n",
    "    driver.quit() #Close Screen"
   ]
  },
  {
   "cell_type": "code",
   "execution_count": 15,
   "metadata": {},
   "outputs": [
    {
     "ename": "NameError",
     "evalue": "name 'ChromeDriverManager' is not defined",
     "output_type": "error",
     "traceback": [
      "\u001b[0;31m---------------------------------------------------------------------------\u001b[0m",
      "\u001b[0;31mNameError\u001b[0m                                 Traceback (most recent call last)",
      "\u001b[1;32m/Users/nakada/Repos/j-techno/tools/printout.ipynb Cell 9\u001b[0m in \u001b[0;36m<cell line: 2>\u001b[0;34m()\u001b[0m\n\u001b[1;32m      <a href='vscode-notebook-cell:/Users/nakada/Repos/j-techno/tools/printout.ipynb#X11sZmlsZQ%3D%3D?line=0'>1</a>\u001b[0m \u001b[39mfrom\u001b[39;00m \u001b[39mpathlib\u001b[39;00m \u001b[39mimport\u001b[39;00m Path\n\u001b[1;32m      <a href='vscode-notebook-cell:/Users/nakada/Repos/j-techno/tools/printout.ipynb#X11sZmlsZQ%3D%3D?line=1'>2</a>\u001b[0m \u001b[39mfor\u001b[39;00m html \u001b[39min\u001b[39;00m glob\u001b[39m.\u001b[39mglob(\u001b[39m'\u001b[39m\u001b[39m../html/*.html\u001b[39m\u001b[39m'\u001b[39m):\n\u001b[0;32m----> <a href='vscode-notebook-cell:/Users/nakada/Repos/j-techno/tools/printout.ipynb#X11sZmlsZQ%3D%3D?line=2'>3</a>\u001b[0m     main_WebToPDF(\u001b[39m'\u001b[39;49m\u001b[39mfile://\u001b[39;49m\u001b[39m'\u001b[39;49m \u001b[39m+\u001b[39;49m \u001b[39mstr\u001b[39;49m(Path(html)\u001b[39m.\u001b[39;49mresolve()), \u001b[39mstr\u001b[39;49m(Path(\u001b[39m'\u001b[39;49m\u001b[39m../pdf\u001b[39;49m\u001b[39m'\u001b[39;49m)\u001b[39m.\u001b[39;49mresolve()))\n",
      "\u001b[1;32m/Users/nakada/Repos/j-techno/tools/printout.ipynb Cell 9\u001b[0m in \u001b[0;36mmain_WebToPDF\u001b[0;34m(BlogURL, output_dir)\u001b[0m\n\u001b[1;32m      <a href='vscode-notebook-cell:/Users/nakada/Repos/j-techno/tools/printout.ipynb#X11sZmlsZQ%3D%3D?line=2'>3</a>\u001b[0m     chopt \u001b[39m=\u001b[39m PrintSetUp(output_dir)\n\u001b[1;32m      <a href='vscode-notebook-cell:/Users/nakada/Repos/j-techno/tools/printout.ipynb#X11sZmlsZQ%3D%3D?line=3'>4</a>\u001b[0m     driver_path \u001b[39m=\u001b[39m \u001b[39m\"\u001b[39m\u001b[39m./chromedriver\u001b[39m\u001b[39m\"\u001b[39m \u001b[39m#webdriverのパス\u001b[39;00m\n\u001b[0;32m----> <a href='vscode-notebook-cell:/Users/nakada/Repos/j-techno/tools/printout.ipynb#X11sZmlsZQ%3D%3D?line=4'>5</a>\u001b[0m     driver \u001b[39m=\u001b[39m webdriver\u001b[39m.\u001b[39mChrome(service\u001b[39m=\u001b[39mChromeService(ChromeDriverManager()\u001b[39m.\u001b[39minstall()), options\u001b[39m=\u001b[39mchopt)   \n\u001b[1;32m      <a href='vscode-notebook-cell:/Users/nakada/Repos/j-techno/tools/printout.ipynb#X11sZmlsZQ%3D%3D?line=5'>6</a>\u001b[0m \u001b[39m#    driver = webdriver.Chrome(options=chopt)\u001b[39;00m\n\u001b[1;32m      <a href='vscode-notebook-cell:/Users/nakada/Repos/j-techno/tools/printout.ipynb#X11sZmlsZQ%3D%3D?line=6'>7</a>\u001b[0m \u001b[39m#    driver = webdriver.Chrome(executable_path=driver_path, options=chopt)\u001b[39;00m\n\u001b[1;32m      <a href='vscode-notebook-cell:/Users/nakada/Repos/j-techno/tools/printout.ipynb#X11sZmlsZQ%3D%3D?line=7'>8</a>\u001b[0m     driver\u001b[39m.\u001b[39mimplicitly_wait(\u001b[39m1\u001b[39m) \u001b[39m# 秒 暗示的待機 \u001b[39;00m\n",
      "\u001b[0;31mNameError\u001b[0m: name 'ChromeDriverManager' is not defined"
     ]
    }
   ],
   "source": [
    "from pathlib import Path\n",
    "for html in glob.glob('../html/*.html'):\n",
    "    main_WebToPDF('file://' + str(Path(html).resolve()), str(Path('../pdf').resolve()))\n",
    "    \n",
    "\n"
   ]
  },
  {
   "cell_type": "code",
   "execution_count": null,
   "metadata": {},
   "outputs": [],
   "source": []
  }
 ],
 "metadata": {
  "kernelspec": {
   "display_name": "base",
   "language": "python",
   "name": "python3"
  },
  "language_info": {
   "codemirror_mode": {
    "name": "ipython",
    "version": 3
   },
   "file_extension": ".py",
   "mimetype": "text/x-python",
   "name": "python",
   "nbconvert_exporter": "python",
   "pygments_lexer": "ipython3",
   "version": "3.9.13"
  },
  "orig_nbformat": 4,
  "vscode": {
   "interpreter": {
    "hash": "d69d4c14576bc6cff7b4de4c8595283d8f57e1d51fb0b8ba0be9eef6a6380053"
   }
  }
 },
 "nbformat": 4,
 "nbformat_minor": 2
}
