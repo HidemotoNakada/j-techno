{
 "cells": [
  {
   "cell_type": "code",
   "execution_count": 1,
   "metadata": {},
   "outputs": [],
   "source": [
    "import torch\n",
    "import torchvision.datasets"
   ]
  },
  {
   "cell_type": "code",
   "execution_count": 11,
   "metadata": {},
   "outputs": [],
   "source": [
    "transform = torchvision.transforms.Compose([\n",
    "    torchvision.transforms.ToTensor(),\n",
    "    torchvision.transforms.Normalize((0.1307,), (0.3081,))\n",
    "])\n",
    "\n",
    "batch_size = 64\n",
    "n_epochs = 3\n",
    "learning_rate = 0.01\n",
    "momentum = 0.5\n",
    "log_interval = 10\n",
    "\n",
    "train_data = torchvision.datasets.MNIST(root='data', train=True, download=True, transform=transform)\n",
    "test_data = torchvision.datasets.MNIST(root='data', train=False, download=True, transform=transform)\n",
    "\n",
    "train_loader = torch.utils.data.DataLoader(train_data, batch_size=batch_size, shuffle=True)\n",
    "test_loader = torch.utils.data.DataLoader(test_data, batch_size=batch_size, shuffle=True)"
   ]
  },
  {
   "cell_type": "code",
   "execution_count": 12,
   "metadata": {},
   "outputs": [
    {
     "data": {
      "image/png": "[encoded data removed]",
      "text/plain": [
       "<Figure size 432x288 with 6 Axes>"
      ]
     },
     "metadata": {},
     "output_type": "display_data"
    }
   ],
   "source": [
    "import matplotlib.pyplot as plt\n",
    "\n",
    "label = train_data.targets.detach().numpy()\n",
    "data = train_data.data.detach().numpy()\n",
    "\n",
    "for i in range(6):\n",
    "  plt.subplot(2,3,i+1)\n",
    "  plt.tight_layout()\n",
    "  plt.imshow(data[i], cmap='gray', interpolation='none')\n",
    "  plt.title(\"Ground Truth: {}\".format(label[i]))\n",
    "  plt.xticks([])\n",
    "  plt.yticks([])\n"
   ]
  },
  {
   "cell_type": "code",
   "execution_count": 13,
   "metadata": {},
   "outputs": [
    {
     "data": {
      "text/plain": [
       "Dataset MNIST\n",
       "    Number of datapoints: 10000\n",
       "    Root location: data\n",
       "    Split: Test\n",
       "    StandardTransform\n",
       "Transform: Compose(\n",
       "               ToTensor()\n",
       "               Normalize(mean=(0.1307,), std=(0.3081,))\n",
       "           )"
      ]
     },
     "execution_count": 13,
     "metadata": {},
     "output_type": "execute_result"
    }
   ],
   "source": [
    "test_data"
   ]
  },
  {
   "cell_type": "code",
   "execution_count": null,
   "metadata": {},
   "outputs": [],
   "source": []
  },
  {
   "cell_type": "markdown",
   "metadata": {},
   "source": [
    "## ネットワークの作成\n",
    "\n",
    "簡単なConvolusion networkを作る。"
   ]
  },
  {
   "cell_type": "code",
   "execution_count": 14,
   "metadata": {},
   "outputs": [],
   "source": [
    "import torch.nn as nn\n",
    "import torch.nn.functional as F\n",
    "import torch.optim as optim\n",
    "\n",
    "class Net(nn.Module):\n",
    "    def __init__(self):\n",
    "        super(Net, self).__init__()\n",
    "        self.conv1 = nn.Conv2d(1, 10, kernel_size=5)\n",
    "        self.conv2 = nn.Conv2d(10, 20, kernel_size=5)\n",
    "        self.conv2_drop = nn.Dropout2d()\n",
    "        self.fc1 = nn.Linear(320, 50)\n",
    "        self.fc2 = nn.Linear(50, 10)\n",
    "\n",
    "    def forward(self, x):\n",
    "        x = F.relu(F.max_pool2d(self.conv1(x), 2))\n",
    "        x = F.relu(F.max_pool2d(self.conv2_drop(self.conv2(x)), 2))\n",
    "        x = x.view(-1, 320)\n",
    "        x = F.relu(self.fc1(x))\n",
    "        x = F.dropout(x, training=self.training)\n",
    "        x = self.fc2(x)\n",
    "        return F.log_softmax(x)"
   ]
  },
  {
   "cell_type": "code",
   "execution_count": 15,
   "metadata": {},
   "outputs": [],
   "source": [
    "network = Net()\n",
    "optimizer = optim.SGD(network.parameters(), lr=learning_rate,\n",
    "                      momentum=momentum)"
   ]
  },
  {
   "cell_type": "code",
   "execution_count": 24,
   "metadata": {},
   "outputs": [],
   "source": [
    "def train(epoch):\n",
    "  network.train()\n",
    "  for batch_idx, (data, target) in enumerate(train_loader):\n",
    "    optimizer.zero_grad()\n",
    "    output = network(data)\n",
    "    loss = F.nll_loss(output, target)\n",
    "    loss.backward()\n",
    "    optimizer.step()\n",
    "    if batch_idx % log_interval == 0:\n",
    "      print('Train Epoch: {} [{}/{} ({:.0f}%)]\\tLoss: {:.6f}'.format(\n",
    "        epoch, batch_idx * len(data), len(train_loader.dataset),\n",
    "        100. * batch_idx / len(train_loader), loss.item()))\n",
    "      train_losses.append(loss.item())\n",
    "      train_counter.append(\n",
    "        (batch_idx*64) + ((epoch-1)*len(train_loader.dataset)))\n",
    "      torch.save(network.state_dict(), 'results/model.pth')\n",
    "      torch.save(optimizer.state_dict(), 'results/optimizer.pth')"
   ]
  },
  {
   "cell_type": "code",
   "execution_count": 25,
   "metadata": {},
   "outputs": [],
   "source": [
    "def test(loader, label, accuracy_list):\n",
    "  network.eval()\n",
    "  test_loss = 0\n",
    "  correct = 0\n",
    "  with torch.no_grad():\n",
    "    for data, target in loader:\n",
    "      output = network(data)\n",
    "      test_loss += F.nll_loss(output, target, size_average=False).item()\n",
    "      pred = output.data.max(1, keepdim=True)[1]\n",
    "      correct += pred.eq(target.data.view_as(pred)).sum()\n",
    "  test_loss /= len(loader.dataset)\n",
    "  if label == \"Test\":\n",
    "    test_losses.append(test_loss)\n",
    "  acc = 100. * correct / len(loader.dataset)\n",
    "  print('\\n {} set: Avg. loss: {:.4f}, Accuracy: {}/{} ({:.0f}%)'.format(\n",
    "    label, test_loss, correct, len(loader.dataset),\n",
    "    acc))\n",
    "  accuracy_list.append(acc)"
   ]
  },
  {
   "cell_type": "code",
   "execution_count": 27,
   "metadata": {},
   "outputs": [],
   "source": [
    "train_losses = []\n",
    "train_counter = []\n",
    "train_acc = []\n",
    "test_losses = []\n",
    "test_counter = [i*len(train_loader.dataset) for i in range(n_epochs + 1)]\n",
    "test_acc = []\n"
   ]
  },
  {
   "cell_type": "code",
   "execution_count": 28,
   "metadata": {},
   "outputs": [
    {
     "name": "stderr",
     "output_type": "stream",
     "text": [
      "<ipython-input-14-fe54d3ae7723>:21: UserWarning: Implicit dimension choice for log_softmax has been deprecated. Change the call to include dim=X as an argument.\n",
      "  return F.log_softmax(x)\n"
     ]
    },
    {
     "name": "stdout",
     "output_type": "stream",
     "text": [
      "\n",
      " Train set: Avg. loss: 0.0854, Accuracy: 58447/60000 (97%)\n",
      "\n",
      " Test set: Avg. loss: 0.0770, Accuracy: 9761/10000 (98%)\n",
      "Train Epoch: 1 [0/60000 (0%)]\tLoss: 0.269006\n",
      "Train Epoch: 1 [640/60000 (1%)]\tLoss: 0.211010\n",
      "Train Epoch: 1 [1280/60000 (2%)]\tLoss: 0.365203\n",
      "Train Epoch: 1 [1920/60000 (3%)]\tLoss: 0.136850\n",
      "Train Epoch: 1 [2560/60000 (4%)]\tLoss: 0.205354\n",
      "Train Epoch: 1 [3200/60000 (5%)]\tLoss: 0.380492\n",
      "Train Epoch: 1 [3840/60000 (6%)]\tLoss: 0.141548\n",
      "Train Epoch: 1 [4480/60000 (7%)]\tLoss: 0.230977\n",
      "Train Epoch: 1 [5120/60000 (9%)]\tLoss: 0.138049\n",
      "Train Epoch: 1 [5760/60000 (10%)]\tLoss: 0.406837\n",
      "Train Epoch: 1 [6400/60000 (11%)]\tLoss: 0.145708\n",
      "Train Epoch: 1 [7040/60000 (12%)]\tLoss: 0.375790\n",
      "Train Epoch: 1 [7680/60000 (13%)]\tLoss: 0.184930\n",
      "Train Epoch: 1 [8320/60000 (14%)]\tLoss: 0.242972\n",
      "Train Epoch: 1 [8960/60000 (15%)]\tLoss: 0.348382\n",
      "Train Epoch: 1 [9600/60000 (16%)]\tLoss: 0.219021\n",
      "Train Epoch: 1 [10240/60000 (17%)]\tLoss: 0.476187\n",
      "Train Epoch: 1 [10880/60000 (18%)]\tLoss: 0.306232\n",
      "Train Epoch: 1 [11520/60000 (19%)]\tLoss: 0.173874\n",
      "Train Epoch: 1 [12160/60000 (20%)]\tLoss: 0.268774\n",
      "Train Epoch: 1 [12800/60000 (21%)]\tLoss: 0.155772\n",
      "Train Epoch: 1 [13440/60000 (22%)]\tLoss: 0.268635\n",
      "Train Epoch: 1 [14080/60000 (23%)]\tLoss: 0.214296\n",
      "Train Epoch: 1 [14720/60000 (25%)]\tLoss: 0.335012\n",
      "Train Epoch: 1 [15360/60000 (26%)]\tLoss: 0.094971\n",
      "Train Epoch: 1 [16000/60000 (27%)]\tLoss: 0.073224\n",
      "Train Epoch: 1 [16640/60000 (28%)]\tLoss: 0.229408\n",
      "Train Epoch: 1 [17280/60000 (29%)]\tLoss: 0.293046\n",
      "Train Epoch: 1 [17920/60000 (30%)]\tLoss: 0.288251\n",
      "Train Epoch: 1 [18560/60000 (31%)]\tLoss: 0.181841\n",
      "Train Epoch: 1 [19200/60000 (32%)]\tLoss: 0.115147\n",
      "Train Epoch: 1 [19840/60000 (33%)]\tLoss: 0.203534\n",
      "Train Epoch: 1 [20480/60000 (34%)]\tLoss: 0.181263\n",
      "Train Epoch: 1 [21120/60000 (35%)]\tLoss: 0.280871\n",
      "Train Epoch: 1 [21760/60000 (36%)]\tLoss: 0.238458\n",
      "Train Epoch: 1 [22400/60000 (37%)]\tLoss: 0.411185\n",
      "Train Epoch: 1 [23040/60000 (38%)]\tLoss: 0.169886\n",
      "Train Epoch: 1 [23680/60000 (39%)]\tLoss: 0.118240\n",
      "Train Epoch: 1 [24320/60000 (41%)]\tLoss: 0.237917\n",
      "Train Epoch: 1 [24960/60000 (42%)]\tLoss: 0.147411\n",
      "Train Epoch: 1 [25600/60000 (43%)]\tLoss: 0.260051\n",
      "Train Epoch: 1 [26240/60000 (44%)]\tLoss: 0.307416\n",
      "Train Epoch: 1 [26880/60000 (45%)]\tLoss: 0.199105\n",
      "Train Epoch: 1 [27520/60000 (46%)]\tLoss: 0.330162\n",
      "Train Epoch: 1 [28160/60000 (47%)]\tLoss: 0.417871\n",
      "Train Epoch: 1 [28800/60000 (48%)]\tLoss: 0.336302\n",
      "Train Epoch: 1 [29440/60000 (49%)]\tLoss: 0.306584\n",
      "Train Epoch: 1 [30080/60000 (50%)]\tLoss: 0.227592\n",
      "Train Epoch: 1 [30720/60000 (51%)]\tLoss: 0.254127\n",
      "Train Epoch: 1 [31360/60000 (52%)]\tLoss: 0.245335\n",
      "Train Epoch: 1 [32000/60000 (53%)]\tLoss: 0.165650\n",
      "Train Epoch: 1 [32640/60000 (54%)]\tLoss: 0.186538\n",
      "Train Epoch: 1 [33280/60000 (55%)]\tLoss: 0.117200\n",
      "Train Epoch: 1 [33920/60000 (57%)]\tLoss: 0.086019\n",
      "Train Epoch: 1 [34560/60000 (58%)]\tLoss: 0.162346\n",
      "Train Epoch: 1 [35200/60000 (59%)]\tLoss: 0.171387\n",
      "Train Epoch: 1 [35840/60000 (60%)]\tLoss: 0.327581\n",
      "Train Epoch: 1 [36480/60000 (61%)]\tLoss: 0.277912\n",
      "Train Epoch: 1 [37120/60000 (62%)]\tLoss: 0.223591\n",
      "Train Epoch: 1 [37760/60000 (63%)]\tLoss: 0.250864\n",
      "Train Epoch: 1 [38400/60000 (64%)]\tLoss: 0.247375\n",
      "Train Epoch: 1 [39040/60000 (65%)]\tLoss: 0.227645\n",
      "Train Epoch: 1 [39680/60000 (66%)]\tLoss: 0.335385\n",
      "Train Epoch: 1 [40320/60000 (67%)]\tLoss: 0.294074\n",
      "Train Epoch: 1 [40960/60000 (68%)]\tLoss: 0.119823\n",
      "Train Epoch: 1 [41600/60000 (69%)]\tLoss: 0.208742\n",
      "Train Epoch: 1 [42240/60000 (70%)]\tLoss: 0.311650\n",
      "Train Epoch: 1 [42880/60000 (71%)]\tLoss: 0.243651\n",
      "Train Epoch: 1 [43520/60000 (72%)]\tLoss: 0.040360\n",
      "Train Epoch: 1 [44160/60000 (74%)]\tLoss: 0.207370\n",
      "Train Epoch: 1 [44800/60000 (75%)]\tLoss: 0.242041\n",
      "Train Epoch: 1 [45440/60000 (76%)]\tLoss: 0.140949\n",
      "Train Epoch: 1 [46080/60000 (77%)]\tLoss: 0.189402\n",
      "Train Epoch: 1 [46720/60000 (78%)]\tLoss: 0.191432\n",
      "Train Epoch: 1 [47360/60000 (79%)]\tLoss: 0.333695\n",
      "Train Epoch: 1 [48000/60000 (80%)]\tLoss: 0.123778\n",
      "Train Epoch: 1 [48640/60000 (81%)]\tLoss: 0.223779\n",
      "Train Epoch: 1 [49280/60000 (82%)]\tLoss: 0.335637\n",
      "Train Epoch: 1 [49920/60000 (83%)]\tLoss: 0.315958\n",
      "Train Epoch: 1 [50560/60000 (84%)]\tLoss: 0.173815\n",
      "Train Epoch: 1 [51200/60000 (85%)]\tLoss: 0.396779\n",
      "Train Epoch: 1 [51840/60000 (86%)]\tLoss: 0.195740\n",
      "Train Epoch: 1 [52480/60000 (87%)]\tLoss: 0.299340\n",
      "Train Epoch: 1 [53120/60000 (88%)]\tLoss: 0.165865\n",
      "Train Epoch: 1 [53760/60000 (90%)]\tLoss: 0.147530\n",
      "Train Epoch: 1 [54400/60000 (91%)]\tLoss: 0.299889\n",
      "Train Epoch: 1 [55040/60000 (92%)]\tLoss: 0.098966\n",
      "Train Epoch: 1 [55680/60000 (93%)]\tLoss: 0.119440\n",
      "Train Epoch: 1 [56320/60000 (94%)]\tLoss: 0.284877\n",
      "Train Epoch: 1 [56960/60000 (95%)]\tLoss: 0.326912\n",
      "Train Epoch: 1 [57600/60000 (96%)]\tLoss: 0.221703\n",
      "Train Epoch: 1 [58240/60000 (97%)]\tLoss: 0.118985\n",
      "Train Epoch: 1 [58880/60000 (98%)]\tLoss: 0.251543\n",
      "Train Epoch: 1 [59520/60000 (99%)]\tLoss: 0.245238\n",
      "\n",
      " Train set: Avg. loss: 0.0774, Accuracy: 58565/60000 (98%)\n",
      "\n",
      " Test set: Avg. loss: 0.0706, Accuracy: 9779/10000 (98%)\n",
      "Train Epoch: 2 [0/60000 (0%)]\tLoss: 0.236340\n",
      "Train Epoch: 2 [640/60000 (1%)]\tLoss: 0.344388\n",
      "Train Epoch: 2 [1280/60000 (2%)]\tLoss: 0.148778\n",
      "Train Epoch: 2 [1920/60000 (3%)]\tLoss: 0.388492\n",
      "Train Epoch: 2 [2560/60000 (4%)]\tLoss: 0.251463\n",
      "Train Epoch: 2 [3200/60000 (5%)]\tLoss: 0.117306\n",
      "Train Epoch: 2 [3840/60000 (6%)]\tLoss: 0.184817\n",
      "Train Epoch: 2 [4480/60000 (7%)]\tLoss: 0.185426\n",
      "Train Epoch: 2 [5120/60000 (9%)]\tLoss: 0.447326\n",
      "Train Epoch: 2 [5760/60000 (10%)]\tLoss: 0.160410\n",
      "Train Epoch: 2 [6400/60000 (11%)]\tLoss: 0.245220\n",
      "Train Epoch: 2 [7040/60000 (12%)]\tLoss: 0.174025\n",
      "Train Epoch: 2 [7680/60000 (13%)]\tLoss: 0.204763\n",
      "Train Epoch: 2 [8320/60000 (14%)]\tLoss: 0.179131\n",
      "Train Epoch: 2 [8960/60000 (15%)]\tLoss: 0.210181\n",
      "Train Epoch: 2 [9600/60000 (16%)]\tLoss: 0.272561\n",
      "Train Epoch: 2 [10240/60000 (17%)]\tLoss: 0.178802\n",
      "Train Epoch: 2 [10880/60000 (18%)]\tLoss: 0.262755\n",
      "Train Epoch: 2 [11520/60000 (19%)]\tLoss: 0.232007\n",
      "Train Epoch: 2 [12160/60000 (20%)]\tLoss: 0.164672\n",
      "Train Epoch: 2 [12800/60000 (21%)]\tLoss: 0.394813\n",
      "Train Epoch: 2 [13440/60000 (22%)]\tLoss: 0.062228\n",
      "Train Epoch: 2 [14080/60000 (23%)]\tLoss: 0.209750\n",
      "Train Epoch: 2 [14720/60000 (25%)]\tLoss: 0.165232\n",
      "Train Epoch: 2 [15360/60000 (26%)]\tLoss: 0.123532\n",
      "Train Epoch: 2 [16000/60000 (27%)]\tLoss: 0.171510\n",
      "Train Epoch: 2 [16640/60000 (28%)]\tLoss: 0.211805\n",
      "Train Epoch: 2 [17280/60000 (29%)]\tLoss: 0.169296\n",
      "Train Epoch: 2 [17920/60000 (30%)]\tLoss: 0.426987\n",
      "Train Epoch: 2 [18560/60000 (31%)]\tLoss: 0.087671\n",
      "Train Epoch: 2 [19200/60000 (32%)]\tLoss: 0.175698\n",
      "Train Epoch: 2 [19840/60000 (33%)]\tLoss: 0.279493\n",
      "Train Epoch: 2 [20480/60000 (34%)]\tLoss: 0.147495\n",
      "Train Epoch: 2 [21120/60000 (35%)]\tLoss: 0.202933\n",
      "Train Epoch: 2 [21760/60000 (36%)]\tLoss: 0.336416\n",
      "Train Epoch: 2 [22400/60000 (37%)]\tLoss: 0.109471\n",
      "Train Epoch: 2 [23040/60000 (38%)]\tLoss: 0.330906\n",
      "Train Epoch: 2 [23680/60000 (39%)]\tLoss: 0.217916\n",
      "Train Epoch: 2 [24320/60000 (41%)]\tLoss: 0.138337\n",
      "Train Epoch: 2 [24960/60000 (42%)]\tLoss: 0.188515\n",
      "Train Epoch: 2 [25600/60000 (43%)]\tLoss: 0.310829\n",
      "Train Epoch: 2 [26240/60000 (44%)]\tLoss: 0.203084\n",
      "Train Epoch: 2 [26880/60000 (45%)]\tLoss: 0.130032\n",
      "Train Epoch: 2 [27520/60000 (46%)]\tLoss: 0.138948\n",
      "Train Epoch: 2 [28160/60000 (47%)]\tLoss: 0.268109\n",
      "Train Epoch: 2 [28800/60000 (48%)]\tLoss: 0.133954\n",
      "Train Epoch: 2 [29440/60000 (49%)]\tLoss: 0.137515\n",
      "Train Epoch: 2 [30080/60000 (50%)]\tLoss: 0.244596\n",
      "Train Epoch: 2 [30720/60000 (51%)]\tLoss: 0.286551\n",
      "Train Epoch: 2 [31360/60000 (52%)]\tLoss: 0.446304\n",
      "Train Epoch: 2 [32000/60000 (53%)]\tLoss: 0.261355\n",
      "Train Epoch: 2 [32640/60000 (54%)]\tLoss: 0.218810\n",
      "Train Epoch: 2 [33280/60000 (55%)]\tLoss: 0.192517\n",
      "Train Epoch: 2 [33920/60000 (57%)]\tLoss: 0.185298\n",
      "Train Epoch: 2 [34560/60000 (58%)]\tLoss: 0.246847\n",
      "Train Epoch: 2 [35200/60000 (59%)]\tLoss: 0.169665\n",
      "Train Epoch: 2 [35840/60000 (60%)]\tLoss: 0.120855\n",
      "Train Epoch: 2 [36480/60000 (61%)]\tLoss: 0.120039\n",
      "Train Epoch: 2 [37120/60000 (62%)]\tLoss: 0.329573\n",
      "Train Epoch: 2 [37760/60000 (63%)]\tLoss: 0.093832\n",
      "Train Epoch: 2 [38400/60000 (64%)]\tLoss: 0.210224\n",
      "Train Epoch: 2 [39040/60000 (65%)]\tLoss: 0.132478\n",
      "Train Epoch: 2 [39680/60000 (66%)]\tLoss: 0.065967\n",
      "Train Epoch: 2 [40320/60000 (67%)]\tLoss: 0.288367\n",
      "Train Epoch: 2 [40960/60000 (68%)]\tLoss: 0.208984\n",
      "Train Epoch: 2 [41600/60000 (69%)]\tLoss: 0.145408\n",
      "Train Epoch: 2 [42240/60000 (70%)]\tLoss: 0.153183\n",
      "Train Epoch: 2 [42880/60000 (71%)]\tLoss: 0.207070\n",
      "Train Epoch: 2 [43520/60000 (72%)]\tLoss: 0.126970\n",
      "Train Epoch: 2 [44160/60000 (74%)]\tLoss: 0.249778\n",
      "Train Epoch: 2 [44800/60000 (75%)]\tLoss: 0.244253\n",
      "Train Epoch: 2 [45440/60000 (76%)]\tLoss: 0.136398\n",
      "Train Epoch: 2 [46080/60000 (77%)]\tLoss: 0.157216\n",
      "Train Epoch: 2 [46720/60000 (78%)]\tLoss: 0.271754\n",
      "Train Epoch: 2 [47360/60000 (79%)]\tLoss: 0.159954\n",
      "Train Epoch: 2 [48000/60000 (80%)]\tLoss: 0.146266\n",
      "Train Epoch: 2 [48640/60000 (81%)]\tLoss: 0.154688\n",
      "Train Epoch: 2 [49280/60000 (82%)]\tLoss: 0.177554\n",
      "Train Epoch: 2 [49920/60000 (83%)]\tLoss: 0.212662\n",
      "Train Epoch: 2 [50560/60000 (84%)]\tLoss: 0.148297\n",
      "Train Epoch: 2 [51200/60000 (85%)]\tLoss: 0.147459\n",
      "Train Epoch: 2 [51840/60000 (86%)]\tLoss: 0.164584\n",
      "Train Epoch: 2 [52480/60000 (87%)]\tLoss: 0.344277\n",
      "Train Epoch: 2 [53120/60000 (88%)]\tLoss: 0.307369\n",
      "Train Epoch: 2 [53760/60000 (90%)]\tLoss: 0.225227\n",
      "Train Epoch: 2 [54400/60000 (91%)]\tLoss: 0.204561\n",
      "Train Epoch: 2 [55040/60000 (92%)]\tLoss: 0.369901\n",
      "Train Epoch: 2 [55680/60000 (93%)]\tLoss: 0.139166\n",
      "Train Epoch: 2 [56320/60000 (94%)]\tLoss: 0.075267\n",
      "Train Epoch: 2 [56960/60000 (95%)]\tLoss: 0.141625\n",
      "Train Epoch: 2 [57600/60000 (96%)]\tLoss: 0.266317\n",
      "Train Epoch: 2 [58240/60000 (97%)]\tLoss: 0.069686\n",
      "Train Epoch: 2 [58880/60000 (98%)]\tLoss: 0.182055\n",
      "Train Epoch: 2 [59520/60000 (99%)]\tLoss: 0.171993\n",
      "\n",
      " Train set: Avg. loss: 0.0702, Accuracy: 58718/60000 (98%)\n",
      "\n",
      " Test set: Avg. loss: 0.0656, Accuracy: 9789/10000 (98%)\n",
      "Train Epoch: 3 [0/60000 (0%)]\tLoss: 0.251911\n",
      "Train Epoch: 3 [640/60000 (1%)]\tLoss: 0.255985\n",
      "Train Epoch: 3 [1280/60000 (2%)]\tLoss: 0.234225\n",
      "Train Epoch: 3 [1920/60000 (3%)]\tLoss: 0.395171\n",
      "Train Epoch: 3 [2560/60000 (4%)]\tLoss: 0.242492\n",
      "Train Epoch: 3 [3200/60000 (5%)]\tLoss: 0.230929\n",
      "Train Epoch: 3 [3840/60000 (6%)]\tLoss: 0.461979\n",
      "Train Epoch: 3 [4480/60000 (7%)]\tLoss: 0.050003\n",
      "Train Epoch: 3 [5120/60000 (9%)]\tLoss: 0.047405\n",
      "Train Epoch: 3 [5760/60000 (10%)]\tLoss: 0.142972\n",
      "Train Epoch: 3 [6400/60000 (11%)]\tLoss: 0.164079\n",
      "Train Epoch: 3 [7040/60000 (12%)]\tLoss: 0.131169\n",
      "Train Epoch: 3 [7680/60000 (13%)]\tLoss: 0.292568\n",
      "Train Epoch: 3 [8320/60000 (14%)]\tLoss: 0.211666\n",
      "Train Epoch: 3 [8960/60000 (15%)]\tLoss: 0.260133\n",
      "Train Epoch: 3 [9600/60000 (16%)]\tLoss: 0.137220\n",
      "Train Epoch: 3 [10240/60000 (17%)]\tLoss: 0.189711\n",
      "Train Epoch: 3 [10880/60000 (18%)]\tLoss: 0.277734\n",
      "Train Epoch: 3 [11520/60000 (19%)]\tLoss: 0.376198\n",
      "Train Epoch: 3 [12160/60000 (20%)]\tLoss: 0.221221\n",
      "Train Epoch: 3 [12800/60000 (21%)]\tLoss: 0.146576\n",
      "Train Epoch: 3 [13440/60000 (22%)]\tLoss: 0.298509\n",
      "Train Epoch: 3 [14080/60000 (23%)]\tLoss: 0.215266\n",
      "Train Epoch: 3 [14720/60000 (25%)]\tLoss: 0.220099\n",
      "Train Epoch: 3 [15360/60000 (26%)]\tLoss: 0.289973\n",
      "Train Epoch: 3 [16000/60000 (27%)]\tLoss: 0.130201\n",
      "Train Epoch: 3 [16640/60000 (28%)]\tLoss: 0.265237\n",
      "Train Epoch: 3 [17280/60000 (29%)]\tLoss: 0.169954\n",
      "Train Epoch: 3 [17920/60000 (30%)]\tLoss: 0.079907\n",
      "Train Epoch: 3 [18560/60000 (31%)]\tLoss: 0.421048\n",
      "Train Epoch: 3 [19200/60000 (32%)]\tLoss: 0.216375\n",
      "Train Epoch: 3 [19840/60000 (33%)]\tLoss: 0.224079\n",
      "Train Epoch: 3 [20480/60000 (34%)]\tLoss: 0.134657\n",
      "Train Epoch: 3 [21120/60000 (35%)]\tLoss: 0.077608\n",
      "Train Epoch: 3 [21760/60000 (36%)]\tLoss: 0.127764\n",
      "Train Epoch: 3 [22400/60000 (37%)]\tLoss: 0.114879\n",
      "Train Epoch: 3 [23040/60000 (38%)]\tLoss: 0.179799\n",
      "Train Epoch: 3 [23680/60000 (39%)]\tLoss: 0.232924\n",
      "Train Epoch: 3 [24320/60000 (41%)]\tLoss: 0.136815\n",
      "Train Epoch: 3 [24960/60000 (42%)]\tLoss: 0.197043\n",
      "Train Epoch: 3 [25600/60000 (43%)]\tLoss: 0.343665\n",
      "Train Epoch: 3 [26240/60000 (44%)]\tLoss: 0.195410\n",
      "Train Epoch: 3 [26880/60000 (45%)]\tLoss: 0.092772\n",
      "Train Epoch: 3 [27520/60000 (46%)]\tLoss: 0.136704\n",
      "Train Epoch: 3 [28160/60000 (47%)]\tLoss: 0.049842\n",
      "Train Epoch: 3 [28800/60000 (48%)]\tLoss: 0.094449\n",
      "Train Epoch: 3 [29440/60000 (49%)]\tLoss: 0.117977\n",
      "Train Epoch: 3 [30080/60000 (50%)]\tLoss: 0.137782\n",
      "Train Epoch: 3 [30720/60000 (51%)]\tLoss: 0.081767\n",
      "Train Epoch: 3 [31360/60000 (52%)]\tLoss: 0.046116\n",
      "Train Epoch: 3 [32000/60000 (53%)]\tLoss: 0.208613\n",
      "Train Epoch: 3 [32640/60000 (54%)]\tLoss: 0.371944\n",
      "Train Epoch: 3 [33280/60000 (55%)]\tLoss: 0.115195\n",
      "Train Epoch: 3 [33920/60000 (57%)]\tLoss: 0.099752\n",
      "Train Epoch: 3 [34560/60000 (58%)]\tLoss: 0.261128\n",
      "Train Epoch: 3 [35200/60000 (59%)]\tLoss: 0.090358\n",
      "Train Epoch: 3 [35840/60000 (60%)]\tLoss: 0.224143\n",
      "Train Epoch: 3 [36480/60000 (61%)]\tLoss: 0.142239\n",
      "Train Epoch: 3 [37120/60000 (62%)]\tLoss: 0.259430\n",
      "Train Epoch: 3 [37760/60000 (63%)]\tLoss: 0.274332\n",
      "Train Epoch: 3 [38400/60000 (64%)]\tLoss: 0.138320\n",
      "Train Epoch: 3 [39040/60000 (65%)]\tLoss: 0.196980\n",
      "Train Epoch: 3 [39680/60000 (66%)]\tLoss: 0.256064\n",
      "Train Epoch: 3 [40320/60000 (67%)]\tLoss: 0.153862\n",
      "Train Epoch: 3 [40960/60000 (68%)]\tLoss: 0.177514\n",
      "Train Epoch: 3 [41600/60000 (69%)]\tLoss: 0.274542\n",
      "Train Epoch: 3 [42240/60000 (70%)]\tLoss: 0.306427\n",
      "Train Epoch: 3 [42880/60000 (71%)]\tLoss: 0.439889\n",
      "Train Epoch: 3 [43520/60000 (72%)]\tLoss: 0.135341\n",
      "Train Epoch: 3 [44160/60000 (74%)]\tLoss: 0.214434\n",
      "Train Epoch: 3 [44800/60000 (75%)]\tLoss: 0.224597\n",
      "Train Epoch: 3 [45440/60000 (76%)]\tLoss: 0.336419\n",
      "Train Epoch: 3 [46080/60000 (77%)]\tLoss: 0.241804\n",
      "Train Epoch: 3 [46720/60000 (78%)]\tLoss: 0.193823\n",
      "Train Epoch: 3 [47360/60000 (79%)]\tLoss: 0.142704\n",
      "Train Epoch: 3 [48000/60000 (80%)]\tLoss: 0.215301\n",
      "Train Epoch: 3 [48640/60000 (81%)]\tLoss: 0.095260\n",
      "Train Epoch: 3 [49280/60000 (82%)]\tLoss: 0.225275\n",
      "Train Epoch: 3 [49920/60000 (83%)]\tLoss: 0.168724\n",
      "Train Epoch: 3 [50560/60000 (84%)]\tLoss: 0.282628\n",
      "Train Epoch: 3 [51200/60000 (85%)]\tLoss: 0.398143\n",
      "Train Epoch: 3 [51840/60000 (86%)]\tLoss: 0.117086\n",
      "Train Epoch: 3 [52480/60000 (87%)]\tLoss: 0.298559\n",
      "Train Epoch: 3 [53120/60000 (88%)]\tLoss: 0.076742\n",
      "Train Epoch: 3 [53760/60000 (90%)]\tLoss: 0.183491\n",
      "Train Epoch: 3 [54400/60000 (91%)]\tLoss: 0.195614\n",
      "Train Epoch: 3 [55040/60000 (92%)]\tLoss: 0.243455\n",
      "Train Epoch: 3 [55680/60000 (93%)]\tLoss: 0.253347\n",
      "Train Epoch: 3 [56320/60000 (94%)]\tLoss: 0.082881\n",
      "Train Epoch: 3 [56960/60000 (95%)]\tLoss: 0.167433\n",
      "Train Epoch: 3 [57600/60000 (96%)]\tLoss: 0.081989\n",
      "Train Epoch: 3 [58240/60000 (97%)]\tLoss: 0.154050\n",
      "Train Epoch: 3 [58880/60000 (98%)]\tLoss: 0.223553\n",
      "Train Epoch: 3 [59520/60000 (99%)]\tLoss: 0.181983\n",
      "\n",
      " Train set: Avg. loss: 0.0622, Accuracy: 58867/60000 (98%)\n",
      "\n",
      " Test set: Avg. loss: 0.0567, Accuracy: 9822/10000 (98%)\n"
     ]
    }
   ],
   "source": [
    "test(train_loader, 'Train', train_acc)\n",
    "test(test_loader, 'Test', test_acc)\n",
    "for epoch in range(1, n_epochs + 1):\n",
    "  train(epoch)\n",
    "  test(train_loader, 'Train', train_acc)\n",
    "  test(test_loader, 'Test', test_acc)"
   ]
  },
  {
   "cell_type": "code",
   "execution_count": 29,
   "metadata": {},
   "outputs": [
    {
     "data": {
      "text/plain": [
       "Text(0, 0.5, 'negative log likelihood loss')"
      ]
     },
     "execution_count": 29,
     "metadata": {},
     "output_type": "execute_result"
    },
    {
     "data": {
      "image/png": "[encoded data removed]",
      "text/plain": [
       "<Figure size 432x288 with 1 Axes>"
      ]
     },
     "metadata": {
      "needs_background": "light"
     },
     "output_type": "display_data"
    }
   ],
   "source": [
    "plt.plot(train_counter, train_losses, color='blue')\n",
    "plt.scatter(test_counter, test_losses, color='red')\n",
    "plt.legend(['Train Loss', 'Test Loss'], loc='upper right')\n",
    "plt.xlabel('number of training examples seen')\n",
    "plt.ylabel('negative log likelihood loss')"
   ]
  },
  {
   "cell_type": "code",
   "execution_count": 30,
   "metadata": {},
   "outputs": [
    {
     "data": {
      "text/plain": [
       "(80.0, 100.0)"
      ]
     },
     "execution_count": 30,
     "metadata": {},
     "output_type": "execute_result"
    },
    {
     "data": {
      "image/png": "[encoded data removed]",
      "text/plain": [
       "<Figure size 432x288 with 1 Axes>"
      ]
     },
     "metadata": {
      "needs_background": "light"
     },
     "output_type": "display_data"
    }
   ],
   "source": [
    "plt.plot(test_counter, train_acc, color='blue')\n",
    "plt.plot(test_counter, test_acc, color='red')\n",
    "plt.legend(['Train Acc', 'Test Acc'], loc='lower right')\n",
    "plt.xlabel('number of training examples seen')\n",
    "plt.ylabel('accuracy')\n",
    "plt.ylim(80, 100)"
   ]
  },
  {
   "cell_type": "code",
   "execution_count": 31,
   "metadata": {},
   "outputs": [
    {
     "data": {
      "text/plain": [
       "([tensor(97.6100), tensor(97.7900), tensor(97.8900), tensor(98.2200)],\n",
       " [tensor(97.4117), tensor(97.6083), tensor(97.8633), tensor(98.1117)])"
      ]
     },
     "execution_count": 31,
     "metadata": {},
     "output_type": "execute_result"
    }
   ],
   "source": [
    "test_acc, train_acc\n"
   ]
  },
  {
   "cell_type": "code",
   "execution_count": 32,
   "metadata": {},
   "outputs": [
    {
     "data": {
      "text/plain": [
       "[tensor(97.4117), tensor(97.6083), tensor(97.8633), tensor(98.1117)]"
      ]
     },
     "execution_count": 32,
     "metadata": {},
     "output_type": "execute_result"
    }
   ],
   "source": [
    "train_acc"
   ]
  },
  {
   "cell_type": "code",
   "execution_count": null,
   "metadata": {},
   "outputs": [],
   "source": []
  }
 ],
 "metadata": {
  "kernelspec": {
   "display_name": "base",
   "language": "python",
   "name": "python3"
  },
  "language_info": {
   "codemirror_mode": {
    "name": "ipython",
    "version": 3
   },
   "file_extension": ".py",
   "mimetype": "text/x-python",
   "name": "python",
   "nbconvert_exporter": "python",
   "pygments_lexer": "ipython3",
   "version": "3.8.3 (default, Jul  2 2020, 11:26:31) \n[Clang 10.0.0 ]"
  },
  "orig_nbformat": 4,
  "vscode": {
   "interpreter": {
    "hash": "3c0bef73b2face560ee8e28b9acc9162e941cf31f766c85faafaeb24dcb791f6"
   }
  }
 },
 "nbformat": 4,
 "nbformat_minor": 2
}
