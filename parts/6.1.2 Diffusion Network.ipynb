{
 "cells": [
  {
   "attachments": {},
   "cell_type": "markdown",
   "metadata": {},
   "source": [
    "### 6.1.2 Diffusion Network\n",
    "\n",
    "- Stable Diffusion などで用いられている画像生成ネットワーク。\n",
    "\n",
    "https://stability.ai/blog/stable-diffusion-public-release\n",
    "\n",
    "- GANやVAEなどの、既存のネットワークと比較して遥かに本物っぽい画像が生成できる。\n"
   ]
  },
  {
   "attachments": {},
   "cell_type": "markdown",
   "metadata": {},
   "source": [
    "<img src=\"https://lilianweng.github.io/posts/2021-07-11-diffusion-models/DDPM.png\" width=\"800\"/>\n",
    "\n",
    "https://lilianweng.github.io/posts/2021-07-11-diffusion-models/ より\n"
   ]
  },
  {
   "attachments": {},
   "cell_type": "markdown",
   "metadata": {},
   "source": [
    "- 元の画像 (左側) にノイズを加えていくと、最終的には一番左のノイズのみの画像になる\n",
    "- この過程を逆に回し、ノイズから元の画像を生成するネットワークを学習する\n",
    "- このネットワークができれば、任意のノイズから何らかのそれっぽい画像が出力されるようになる"
   ]
  },
  {
   "cell_type": "markdown",
   "metadata": {},
   "source": []
  }
 ],
 "metadata": {
  "kernelspec": {
   "display_name": "base",
   "language": "python",
   "name": "python3"
  },
  "language_info": {
   "name": "python",
   "version": "3.8.3 (default, Jul  2 2020, 11:26:31) \n[Clang 10.0.0 ]"
  },
  "orig_nbformat": 4,
  "vscode": {
   "interpreter": {
    "hash": "3c0bef73b2face560ee8e28b9acc9162e941cf31f766c85faafaeb24dcb791f6"
   }
  }
 },
 "nbformat": 4,
 "nbformat_minor": 2
}
