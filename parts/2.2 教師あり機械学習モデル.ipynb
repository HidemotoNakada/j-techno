{
 "cells": [
  {
   "attachments": {},
   "cell_type": "markdown",
   "metadata": {},
   "source": [
    "## 2.2 教師あり機械学習モデル\n",
    "\n",
    "大別して2種類の問題設定がある\n",
    "- 回帰\n",
    "    - 目標変数が連続値\n",
    "- クラス分類\n",
    "    - 目標変数が離散値\n",
    "\n",
    "ほとんどの手法が、わずかに変更するだけで両方に使用できる"
   ]
  },
  {
   "attachments": {},
   "cell_type": "markdown",
   "metadata": {},
   "source": [
    "ここでは以下の5つの方法を紹介する\n",
    "- K-NN  K近傍法  \n",
    "  最も単純なモデル。学習データを単純に記憶する\n",
    "- 線形モデル  \n",
    "  直線(超平面)で分割することで分類を行う。一見非力だが、多次元空間では驚くほど協力\n",
    "- 決定木とそのバリエーション  \n",
    "  2つに空間を分割していくことを繰り返して分類を行う。非常に強力\n",
    "- SVM (support vector machine)\n",
    "  サポートベクタと呼ばれる少数の点を選び、マージンが大きくなるように分類\n",
    "- ニューラルネットワーク  \n",
    "  重みによる線形変換と非線形変換を繰り返して多次元化"
   ]
  }
 ],
 "metadata": {
  "kernelspec": {
   "display_name": "base",
   "language": "python",
   "name": "python3"
  },
  "language_info": {
   "codemirror_mode": {
    "name": "ipython",
    "version": 3
   },
   "file_extension": ".py",
   "mimetype": "text/x-python",
   "name": "python",
   "nbconvert_exporter": "python",
   "pygments_lexer": "ipython3",
   "version": "3.8.3"
  },
  "orig_nbformat": 4,
  "vscode": {
   "interpreter": {
    "hash": "3c0bef73b2face560ee8e28b9acc9162e941cf31f766c85faafaeb24dcb791f6"
   }
  }
 },
 "nbformat": 4,
 "nbformat_minor": 2
}
