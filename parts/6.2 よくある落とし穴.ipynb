{
 "cells": [
  {
   "attachments": {},
   "cell_type": "markdown",
   "metadata": {},
   "source": [
    "## 6.2 よくある落とし穴\n",
    "\n",
    "### 訓練データとテストデータのデータ分割方法\n",
    "\n",
    "- 訓練データとテストデータは\n",
    "    - 同じ確率分布から生成されていなければならない\n",
    "    - サンプル同士が似すぎていてはいけない\n",
    "- 分割が不適切だと、モデルの評価結果が不適切になる\n",
    "    - 確率分布が違う => どうやってもテストスコアがよくならない\n",
    "    - 似すぎている => 訓練データを単純に覚えこんだようなモデルでも汎化性能がよく見えてしまう\n"
   ]
  },
  {
   "attachments": {},
   "cell_type": "markdown",
   "metadata": {},
   "source": [
    "### 前処理が不適切\n",
    "- モデルによっては特徴量の標準化が必須\n",
    "    - 必須: 線形モデル、ニューラルネットワーク、k-means など\n",
    "    - 不要: 決定木に基づくモデル\n",
    "- 標準化を行わないと、スケールの大きな特徴量が課題に評価される"
   ]
  },
  {
   "cell_type": "markdown",
   "metadata": {},
   "source": []
  },
  {
   "attachments": {},
   "cell_type": "markdown",
   "metadata": {},
   "source": [
    "### センサーデータに生成モデルを適用する\n",
    "\n",
    "ありがちなシナリオ\n",
    "- VAE などの生成モデルを用いると欠損データを補うことができる\n",
    "- これを使えば、センサーが取得したデータの欠損部分を埋められるような気がする\n",
    "- 取得したデータを生成モデルで補完したものに対して、異常検出などを行おうとする\n",
    "\n",
    "やってはいけない\n",
    "- 生成データは確率的にありそうな情報で補う\n",
    "- ほとんどの入力データが正常値なのであれば、補完して生成されるものは正常値のみ\n",
    "- 異常検知の役にはまったくたたない。\n"
   ]
  },
  {
   "attachments": {},
   "cell_type": "markdown",
   "metadata": {},
   "source": [
    "## 6.3 これだけは覚えて帰ってください\n",
    "\n",
    "- 決定木以外のデータに対してはデータをノーマライズする\n",
    "- テストデータを使ってチューニングしない\n",
    "- 決定木ベースの手法は高速で強力\n",
    "    - 特徴量の数が少ない場合はディープラーニングを使う必要はない\n",
    "- 転移学習を使えば、ディープラーニングの計算量は以外に少ない\n",
    "\n",
    "\n"
   ]
  },
  {
   "cell_type": "markdown",
   "metadata": {},
   "source": []
  }
 ],
 "metadata": {
  "kernelspec": {
   "display_name": "Python 3.9.12 64-bit ('base')",
   "language": "python",
   "name": "python3"
  },
  "language_info": {
   "codemirror_mode": {
    "name": "ipython",
    "version": 3
   },
   "file_extension": ".py",
   "mimetype": "text/x-python",
   "name": "python",
   "nbconvert_exporter": "python",
   "pygments_lexer": "ipython3",
   "version": "3.9.12 (main, Apr  5 2022, 01:53:17) \n[Clang 12.0.0 ]"
  },
  "orig_nbformat": 4,
  "vscode": {
   "interpreter": {
    "hash": "d69d4c14576bc6cff7b4de4c8595283d8f57e1d51fb0b8ba0be9eef6a6380053"
   }
  }
 },
 "nbformat": 4,
 "nbformat_minor": 2
}
