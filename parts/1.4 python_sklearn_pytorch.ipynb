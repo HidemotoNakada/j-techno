{
 "cells": [
  {
   "attachments": {},
   "cell_type": "markdown",
   "metadata": {},
   "source": [
    "## 1.4 Python, ScikitLearn, PyTorch\n",
    "\n",
    "### 1.4.1 Pythonについて\n",
    "- 1991 年初出\n",
    "    - 言語としては古参\n",
    "    - 継続的に進化し続けているが、言語仕様、実装ともにやや古典的\n",
    "- いくつか実装があるが、典型的にはCPythonを用いる。\n",
    "    - いわゆるインタプリタ言語だが、厳密にはpycというバイトコード形式にコンパイルされる\n",
    "- 一般に**非常に遅い**\n",
    "    - C言語と比べると50-100倍ぐらい\n",
    "    - マルチスレッドがまともに動かない\n",
    "        - Giant Interpreter Lock\n",
    "        - 事実上1スレッドしか同時には実行できない\n",
    "- にもかかわらず広く用いられている - なぜか\n",
    "    - 多用されるライブラリの多くはC/C++でコア部分が書かれている\n",
    "    - Pythonはラッパにすぎない"
   ]
  },
  {
   "attachments": {},
   "cell_type": "markdown",
   "metadata": {},
   "source": [
    "### 1.4.2 Pythonの速度\n",
    "- 実際どのくらい遅いのだろうか\n",
    "- 簡単なプログラムで測ってみる\n",
    "    - 10000000 (1千万)の1を単純なループですべて足し合わせる。"
   ]
  },
  {
   "cell_type": "code",
   "execution_count": 2,
   "metadata": {},
   "outputs": [
    {
     "data": {
      "text/plain": [
       "0.7713139057159424"
      ]
     },
     "execution_count": 2,
     "metadata": {},
     "output_type": "execute_result"
    }
   ],
   "source": [
    "# Pythonのコード\n",
    "\n",
    "import time\n",
    "l = [1] * 10000000;\n",
    "before = time.time()\n",
    "acc = 0\n",
    "for i in l:\n",
    "    acc += i\n",
    "time.time() - before"
   ]
  },
  {
   "cell_type": "code",
   "execution_count": 3,
   "metadata": {},
   "outputs": [
    {
     "name": "stdout",
     "output_type": "stream",
     "text": [
      "#include <stdio.h>\n",
      "#include <time.h>\n",
      "#define N 10000000\n",
      "\n",
      "int buf[N];\n",
      "\n",
      "int main() {\n",
      "    struct timespec ts_before, ts_after;\n",
      "    for (int i = 0; i < N; i++) buf[i] = 1;\n",
      "\n",
      "    clock_gettime(CLOCK_REALTIME, &ts_before);\n",
      "    int acc = 0;\n",
      "    for (int i = 0; i < N; i++) \n",
      "        acc += buf[i];\n",
      "    clock_gettime(CLOCK_REALTIME, &ts_after);\n",
      "    double diff = (ts_after.tv_sec - ts_before.tv_sec) +\n",
      "                ((ts_after.tv_nsec - ts_before.tv_nsec) / 1000000000.0);\n",
      "    printf(\"%d, %lf\\n\", acc, diff);\n",
      "}"
     ]
    }
   ],
   "source": [
    "# Cのコード\n",
    "!cat test.c"
   ]
  },
  {
   "cell_type": "code",
   "execution_count": 4,
   "metadata": {},
   "outputs": [
    {
     "name": "stdout",
     "output_type": "stream",
     "text": [
      "10000000, 0.002381\n"
     ]
    }
   ],
   "source": [
    "!gcc -O3 test.c\n",
    "!./a.out"
   ]
  },
  {
   "attachments": {},
   "cell_type": "markdown",
   "metadata": {},
   "source": [
    "- ざっくりと50-100倍ぐらい遅いことがわかる\n",
    "- ではなぜPythonを使うのか\n",
    "    - ライブラリを使うのが前提だから\n",
    "    - 同じことをnumpyでやってみる"
   ]
  },
  {
   "cell_type": "code",
   "execution_count": 6,
   "metadata": {},
   "outputs": [
    {
     "data": {
      "text/plain": [
       "0.007796049118041992"
      ]
     },
     "execution_count": 6,
     "metadata": {},
     "output_type": "execute_result"
    }
   ],
   "source": [
    "import numpy as np\n",
    "\n",
    "a = np.ones(10000000)\n",
    "before = time.time()\n",
    "a.sum()\n",
    "time.time() - before"
   ]
  },
  {
   "attachments": {},
   "cell_type": "markdown",
   "metadata": {},
   "source": [
    "### 1.4.3 Numpyはなぜ速いのか\n",
    "- numpy はデータをPythonのデータ構造としてではなく、独自の格納方法で、自分で管理している領域に保持する\n",
    "- 計算(ここでは `sum` )もPythonのルーチンではなく、C言語で書かれた独自の実装を用いる\n",
    "- 要するにPythonはインターフェイスを提供しているだけ\n",
    "- 他のライブラリもすべて同じ。基本的にラッパ"
   ]
  },
  {
   "cell_type": "markdown",
   "metadata": {},
   "source": [
    "### Python Tips\n",
    "- ライブラリの提供するデータ構造を使う\n",
    "    - numpy のArray\n",
    "    - pandas の Dataframe\n",
    "    - PytorchのTensor\n",
    "- ループを書かない\n",
    "    - Pythonのループを書いたら負け\n",
    "    "
   ]
  },
  {
   "attachments": {},
   "cell_type": "markdown",
   "metadata": {},
   "source": [
    "### 1.4.4 本稿で使用するライブラリ\n",
    "- numpy 数値演算ライブラリ\n",
    "- scipy 科学技術計算ライブラリ\n",
    "- pandas テーブルデータをDataFrameと呼ばれるデータ構造で管理\n",
    "- matplotlib グラフのプロットに用いる\n",
    "- graphviz ノードとエッジで構成されれたグラフ構造を描画\n",
    "- scikit-learn 機械学習ライブラリの集合体\n",
    "- pytorch ニューラルネットワークライブラリ\n",
    "- fastai pytorch を更に使いやすくするためのサポートライブラリ\n",
    "\n"
   ]
  },
  {
   "attachments": {},
   "cell_type": "markdown",
   "metadata": {},
   "source": [
    "### Scikit-learn\n",
    "- 機械学習に関するライブラリの集合体\n",
    "    - https://scikit-learn.org/\n",
    "- さまざまなアルゴリズムに対して統一的なインターフェイスを提供\n",
    "    - fit - 訓練\n",
    "    - predict - 予測\n",
    "    - transform - 変換\n",
    "- さまざまなアルゴリズムを切り替えてテストすることが容易"
   ]
  },
  {
   "attachments": {},
   "cell_type": "markdown",
   "metadata": {},
   "source": [
    "### PyTorch\n",
    "- ニューラルネットワークライブラリ\n",
    "    - 一時は林立したNNライブラリだが、現在はこのPyTorchとGoogle の TensorFlowに収斂\n",
    "    - 2016年初出と後発 (TensorFlow は2015年)\n",
    "    - もともとはTorchというライブラリ(2002年初出)で、Lua言語向けに記述されていたが、Python 向けに向けに構成し直したことで高速に普及\n",
    "- Facebook(Meta) がスポンサー\n",
    "\n"
   ]
  },
  {
   "cell_type": "markdown",
   "metadata": {},
   "source": []
  }
 ],
 "metadata": {
  "kernelspec": {
   "display_name": "base",
   "language": "python",
   "name": "python3"
  },
  "language_info": {
   "codemirror_mode": {
    "name": "ipython",
    "version": 3
   },
   "file_extension": ".py",
   "mimetype": "text/x-python",
   "name": "python",
   "nbconvert_exporter": "python",
   "pygments_lexer": "ipython3",
   "version": "3.8.3"
  },
  "orig_nbformat": 4,
  "vscode": {
   "interpreter": {
    "hash": "3c0bef73b2face560ee8e28b9acc9162e941cf31f766c85faafaeb24dcb791f6"
   }
  }
 },
 "nbformat": 4,
 "nbformat_minor": 2
}
