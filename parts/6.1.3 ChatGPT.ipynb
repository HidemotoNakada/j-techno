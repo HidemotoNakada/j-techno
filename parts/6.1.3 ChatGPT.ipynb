{
 "cells": [
  {
   "attachments": {},
   "cell_type": "markdown",
   "metadata": {},
   "source": [
    "### 6.1.3 ChatGPT\n",
    "\n",
    "- 巨大言語モデルの一つ\n",
    "    - 言語モデル - 単語列が与えられた場合、次の単語はなにかを予測する\n",
    "    - もともとは、機械翻訳などのために研究されていた\n",
    "- 本来言語モデルと知識モデルは別物だが、明らかに知識を獲得している\n",
    "    "
   ]
  },
  {
   "attachments": {},
   "cell_type": "markdown",
   "metadata": {},
   "source": [
    "実物を見てみましょう。"
   ]
  },
  {
   "attachments": {},
   "cell_type": "markdown",
   "metadata": {},
   "source": [
    "- 返答が必ず正しいわけではない\n",
    "- 検索すればすぐわかるようなことについても平気で嘘をつく\n",
    "- しかも非常に説得力の高い文章で\n",
    "\n",
    "- ChatGPTに類するAIが生成した文章が巷に溢れた場合、内容の真偽を判断するのは、非常に困難になることが予測される\n",
    "- これまでもfake newsなどで同様の問題はあったが、生成する速度が圧倒的なので、これまでとは比較にならない問題が発生する、かも\n"
   ]
  },
  {
   "cell_type": "markdown",
   "metadata": {},
   "source": []
  }
 ],
 "metadata": {
  "kernelspec": {
   "display_name": "base",
   "language": "python",
   "name": "python3"
  },
  "language_info": {
   "name": "python",
   "version": "3.8.3 (default, Jul  2 2020, 11:26:31) \n[Clang 10.0.0 ]"
  },
  "orig_nbformat": 4,
  "vscode": {
   "interpreter": {
    "hash": "3c0bef73b2face560ee8e28b9acc9162e941cf31f766c85faafaeb24dcb791f6"
   }
  }
 },
 "nbformat": 4,
 "nbformat_minor": 2
}
