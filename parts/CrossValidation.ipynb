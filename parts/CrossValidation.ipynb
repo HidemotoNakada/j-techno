{
 "cells": [
  {
   "cell_type": "code",
   "execution_count": 17,
   "metadata": {},
   "outputs": [],
   "source": [
    "import matplotlib.pyplot as plt\n",
    "import numpy as np\n",
    "\n",
    "def plot_cross_validation(n_folds=5, n_samples = 25):\n",
    "    plt.figure(figsize=(12, 2))\n",
    "    plt.title(\"cross_validation\")\n",
    "    axes = plt.gca()\n",
    "    axes.set_frame_on(False)\n",
    "\n",
    "    n_samples_per_fold = n_samples / float(n_folds)\n",
    "\n",
    "    for i in range(n_folds):\n",
    "        colors = [\"w\"] * n_folds\n",
    "        colors[i] = \"grey\"\n",
    "        bars = plt.barh(\n",
    "            y=range(n_folds), width=[n_samples_per_fold - 0.1] * n_folds,\n",
    "            left=i * n_samples_per_fold, height=.6, color=colors, hatch=\"//\",\n",
    "            edgecolor='k', align='edge')\n",
    "    axes.invert_yaxis()\n",
    "    axes.set_xlim(0, n_samples + 1)\n",
    "    plt.ylabel(\"CV iterations\")\n",
    "    plt.xlabel(\"Data points\")\n",
    "    plt.xticks(np.arange(n_samples_per_fold / 2., n_samples,\n",
    "                         n_samples_per_fold),\n",
    "               [\"Fold %d\" % x for x in range(1, n_folds + 1)])\n",
    "    plt.yticks(np.arange(n_folds) + .3,\n",
    "               [\"Split %d\" % x for x in range(1, n_folds + 1)])\n",
    "    plt.legend([bars[-2], bars[-1]], ['Training data', 'Test data'],\n",
    "               loc=(1.05, 0.4), frameon=False)"
   ]
  },
  {
   "cell_type": "code",
   "execution_count": 23,
   "metadata": {},
   "outputs": [
    {
     "data": {
      "image/png": "[encoded data removed]",
      "text/plain": [
       "<Figure size 864x144 with 1 Axes>"
      ]
     },
     "metadata": {
      "needs_background": "light"
     },
     "output_type": "display_data"
    }
   ],
   "source": [
    "plot_cross_validation(n_folds=5, n_samples=20)"
   ]
  },
  {
   "cell_type": "code",
   "execution_count": 35,
   "metadata": {},
   "outputs": [
    {
     "data": {
      "text/plain": [
       "<matplotlib.patches.Rectangle at 0x7f8c888c5730>"
      ]
     },
     "execution_count": 35,
     "metadata": {},
     "output_type": "execute_result"
    },
    {
     "data": {
      "image/png": "[encoded data removed]",
      "text/plain": [
       "<Figure size 864x144 with 1 Axes>"
      ]
     },
     "metadata": {},
     "output_type": "display_data"
    }
   ],
   "source": [
    "import matplotlib.patches\n",
    "from matplotlib.patches import Rectangle\n",
    "\n",
    "plt.figure(figsize=(12, 2))\n",
    "ax.add_patch(Rectangle((0,0), 0.1, 0.1))\n",
    "ax.add_patch(Rectangle((3,0), 1, 1))\n"
   ]
  },
  {
   "cell_type": "code",
   "execution_count": 1,
   "metadata": {},
   "outputs": [
    {
     "data": {
      "text/plain": [
       "<AxesSubplot:>"
      ]
     },
     "execution_count": 1,
     "metadata": {},
     "output_type": "execute_result"
    },
    {
     "data": {
      "image/png": "[encoded data removed]",
      "text/plain": [
       "<Figure size 864x576 with 1 Axes>"
      ]
     },
     "metadata": {},
     "output_type": "display_data"
    }
   ],
   "source": [
    "import matplotlib.patches\n",
    "from matplotlib.patches import Rectangle, Ellipse, FancyArrow, Arrow\n",
    "import matplotlib.pyplot as plt\n",
    "import numpy as np\n",
    "\n",
    "\n",
    "class canvas:\n",
    "    def __init__(self, figsize, pixsize):\n",
    "        plt.figure(figsize=figsize)\n",
    "        self.pixsize = pixsize\n",
    "        self.ax = ax = plt.gca()\n",
    "        #self.ax.set_frame_on(False)\n",
    "        self.ax.tick_params(axis='x', which='both', bottom=False, top=False, labelbottom=False) \n",
    "        self.ax.tick_params(axis='y', which='both', left=False, right=False, labelleft=False) \n",
    "        self.ax.set_xlim(0, 1)\n",
    "        self.ax.set_ylim(0, 1)\n",
    "    def get_ax(self):\n",
    "        return self.ax\n",
    "    def _normalize(self, p):\n",
    "        return (p[0] / self.pixsize[0], p[1] /self.pixsize[1])\n",
    "    def rect(self, p, width, height, label=None, label_color=None, **attr):\n",
    "        sp = self._normalize(p)\n",
    "        sw, sh = self._normalize((width,height))\n",
    "        self.ax.add_patch(Rectangle(sp, sw, sh, **attr))\n",
    "        if label:\n",
    "            self.ax.text(sp[0] + sw/2, sp[1] + sh/2, label, color=label_color, ha=\"center\", va=\"center\")\n",
    "    def ellipse(self, p, width, height, label=None, label_color=None, **attr):\n",
    "        sp = self._normalize(p)\n",
    "        sw, sh = self._normalize((width,height))\n",
    "        self.ax.add_patch(Ellipse(sp, sw, sh, **attr))\n",
    "        if label:\n",
    "            self.ax.text(sp[0], sp[1], label, color=label_color, ha=\"center\", va=\"center\")\n",
    "    def arrow(self, p, width, height, label=None, label_offset=(0,0), label_color=None, **attr):\n",
    "        sp = self._normalize(p)\n",
    "        sw, sh = self._normalize((width,height))\n",
    "        self.ax.add_patch(FancyArrow(sp[0], sp[1], sw, sh, width=0.01, length_includes_head=True, **attr))\n",
    "        dx, dy = self._normalize(label_offset)\n",
    "        if label:\n",
    "            self.ax.text(sp[0] + sw/2 + dx, sp[1] + sh/2 + dy, label, color=label_color, ha=\"center\", va=\"center\")\n",
    "    def text(self, p, label, **attr):\n",
    "        sp = self._normalize(p)\n",
    "        self.ax.text(sp[0], sp[1], label, **attr)\n",
    "\n",
    "c = canvas((12,8), (600, 400))\n",
    "c.rect((100, 100), 100, 100, label=\"test\", label_color=\"white\")\n",
    "c.rect((200, 200), 100, 100, color='r')\n",
    "c.ellipse((300,300), 100, 100, label=\"ellipse\")\n",
    "c.arrow((250,150), 100, 0, label=\"this\", label_offset=(0, 10))\n",
    "c.get_ax()\n"
   ]
  },
  {
   "cell_type": "code",
   "execution_count": 62,
   "metadata": {},
   "outputs": [
    {
     "data": {
      "image/png": "[encoded data removed]",
      "text/plain": [
       "<Figure size 864x288 with 1 Axes>"
      ]
     },
     "metadata": {},
     "output_type": "display_data"
    }
   ],
   "source": [
    "\n",
    "c = canvas((12,4), (600, 200))\n",
    "\n",
    "off = (100, 30)\n",
    "r_size = (80, 20)\n",
    "r_gap = (8, 5)\n",
    "div = 5\n",
    "for x in range(div):\n",
    "    for y in range(div):\n",
    "        color = \"gray\" if x == y else \"lightgray\"\n",
    "        label = \"test\" if x == y else \"train\"\n",
    "        c.rect((off[0] + (r_size[0] + r_gap[0]) * x, off[1] + (r_size[1] + r_gap[1]) * y), r_size[0], r_size[1], label = label, color=color)\n",
    "\n",
    "for x in range(div):\n",
    "    c.rect((off[0] + (r_size[0] + r_gap[0]) * x, 10), r_size[0], r_size[1], label = \"fold {}\".format(x), color=\"w\")\n",
    "\n",
    "for y in range(div):\n",
    "    c.rect((15, off[1] + (r_size[1] + r_gap[1]) * y), r_size[0], r_size[1], label = \"split {}\".format(y), color=\"w\")\n",
    "\n",
    "c.text((20, 50), \"CV iterations\", rotation=90)\n"
   ]
  },
  {
   "cell_type": "code",
   "execution_count": null,
   "metadata": {},
   "outputs": [],
   "source": []
  }
 ],
 "metadata": {
  "kernelspec": {
   "display_name": "Python 3.9.12 64-bit ('base')",
   "language": "python",
   "name": "python3"
  },
  "language_info": {
   "codemirror_mode": {
    "name": "ipython",
    "version": 3
   },
   "file_extension": ".py",
   "mimetype": "text/x-python",
   "name": "python",
   "nbconvert_exporter": "python",
   "pygments_lexer": "ipython3",
   "version": "3.9.12"
  },
  "orig_nbformat": 4,
  "vscode": {
   "interpreter": {
    "hash": "d69d4c14576bc6cff7b4de4c8595283d8f57e1d51fb0b8ba0be9eef6a6380053"
   }
  }
 },
 "nbformat": 4,
 "nbformat_minor": 2
}
