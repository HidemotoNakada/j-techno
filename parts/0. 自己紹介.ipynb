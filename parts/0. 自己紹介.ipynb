{
 "cells": [
  {
   "attachments": {},
   "cell_type": "markdown",
   "metadata": {},
   "source": [
    "# 0. はじめに\n",
    "\n",
    "## 0.1 自己紹介\n",
    "\n",
    "- 名前: 中田 秀基\n",
    "- twitter: [@hidemotoNakada](https://twitter.com/hidemotoNakada)\n",
    "- 所属: 産業技術総合研究所 デジタルアーキテクチャ研究センター\n",
    "- 専門:\n",
    "    - 並列計算 / 計算機言語\n",
    "    - 機械学習 / 人工知能\n",
    "- 翻訳書:  \n",
    "<span> <img src=\"images/python-book.jpg\" width=\"200\"/> </span>\n",
    "<span> <img src=\"images/unsupervised.jpg\" width=\"200\"/>  </span>\n",
    "<span><img src=\"images/pytorch.jpg\" width=\"200\"> </span>\n",
    "\n",
    "https://www.amazon.co.jp/s?i=stripbooks&rh=p_27%3A%E4%B8%AD%E7%94%B0+%E7%A7%80%E5%9F%BA&s=relevancerank"
   ]
  },
  {
   "attachments": {},
   "cell_type": "markdown",
   "metadata": {},
   "source": [
    "## 0.2 本日の構成\n",
    "1. 機械学習の基礎\n",
    "2. さまざまな機械学習のモデル\n",
    "3. データ表現と特徴量エンジニアリング\n",
    "4. モデルの評価とパラメータチューニング\n",
    "5. ニューラルネットワークによる画像分類への応用\n",
    "6. まとめ（よくある落とし穴）\n"
   ]
  },
  {
   "attachments": {},
   "cell_type": "markdown",
   "metadata": {},
   "source": [
    "## 0.3 コードと環境について\n",
    "\n",
    "- VS Code上のJupyter notebook\n",
    "- コード/すべてのマテリアルは githubにて公開\n",
    "    cloneして実行が可能"
   ]
  },
  {
   "attachments": {},
   "cell_type": "markdown",
   "metadata": {},
   "source": [
    "## 0.4 参考文献、参考サイト\n",
    "\n",
    "- 「Pythonではじめる機械学習」オライリー\n",
    "    - 議論の大半はこの本を参考にしている\n",
    "    - 説明用図版作成スクリプトも一部お借りしている\n",
    "- 「PyTorchとfastaiではじめるディープラーニング」オライリー\n",
    "\n",
    "- 機械学習 朱鷺の杜  https://ibisforest.org/"
   ]
  },
  {
   "cell_type": "markdown",
   "metadata": {},
   "source": []
  }
 ],
 "metadata": {
  "kernelspec": {
   "display_name": "base",
   "language": "python",
   "name": "python3"
  },
  "language_info": {
   "codemirror_mode": {
    "name": "ipython",
    "version": 3
   },
   "file_extension": ".py",
   "mimetype": "text/x-python",
   "name": "python",
   "nbconvert_exporter": "python",
   "pygments_lexer": "ipython3",
   "version": "3.8.3 (default, Jul  2 2020, 11:26:31) \n[Clang 10.0.0 ]"
  },
  "orig_nbformat": 4,
  "vscode": {
   "interpreter": {
    "hash": "3c0bef73b2face560ee8e28b9acc9162e941cf31f766c85faafaeb24dcb791f6"
   }
  }
 },
 "nbformat": 4,
 "nbformat_minor": 2
}
