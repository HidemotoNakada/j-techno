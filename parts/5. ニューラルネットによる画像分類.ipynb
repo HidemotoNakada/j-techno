{
 "cells": [
  {
   "attachments": {},
   "cell_type": "markdown",
   "metadata": {},
   "source": [
    "# 5. ニューラルネットワークによる画像分類\n",
    "\n",
    "## 5.1 ニューラルネットワークとディープラーニング\n",
    "\n",
    "### ディープラーニング\n",
    "- 通常のニューラルネットワークよりも深く(=層数が大きい)、パラメータ(重み)の数が大きいネットワークを用いた学習\n",
    "    - 明確な定義はない\n",
    "- 2000年代なかばまではニューラルネットワークは数層程度だった\n",
    "    - それ以上の層数ではうまく訓連できなかった\n",
    "    - 勾配消失\n",
    "- ブレークスルー\n",
    "    - コンボリューションネットワークの発明\n",
    "    - 訓練方法の発展\n",
    "    - データ量の飛躍的増大\n",
    "    - 計算機の発展(特にGPU)\n",
    "    - フレームワークの整備 PyTorch, TensorFlow"
   ]
  },
  {
   "attachments": {},
   "cell_type": "markdown",
   "metadata": {},
   "source": [
    "## 5.2 PyTorchの紹介\n",
    "- Torch というライブラリをPython向けに整備し直したもの\n",
    "    - Pythonのライブラリとしては比較的後発だが、実は歴史は古い\n",
    "    - 現在TensorFlowと業界を2分\n",
    "    - 研究者の領域ではPyTorch優勢\n",
    "\n",
    "- PyTorchでなにができるか\n",
    "    - ニューラルネットワークのモデルの定義\n",
    "    - 訓練データを使った訓連\n",
    "\n",
    "- PyTorch(などのNNフレームワーク)の利点\n",
    "    - 通常の計算を行うかのように、NNモデルを定義\n",
    "    - 誤差逆伝搬に必要な自動微分\n"
   ]
  },
  {
   "attachments": {},
   "cell_type": "markdown",
   "metadata": {},
   "source": [
    "## 5.3 CNNの構造"
   ]
  },
  {
   "attachments": {},
   "cell_type": "markdown",
   "metadata": {},
   "source": [
    "#### 画像処理の問題点\n",
    "- 特徴量の数が多い  - 個々のピクセルがそれぞれ特徴量になる\n",
    "      ex. 100 x 100 x 3 のカラー画像なら 30000\n",
    "- これを通常の(全結合)ニューラルネットワークで処理しようとするとパラメータ(重み)の数が大きくなる  \n",
    "      ex. 隠れ層も100x100とすると、30000 x 10000 で $3 \\times 10^8$  \n",
    "          隠れ層の数が増えると更に\n",
    "- パラメータ数が増えると、訓連に必要なデータ数、訓連時間ともに増大する\n",
    "\n",
    "<img src=\"images/mlp.png\" width=\"500\"/>       "
   ]
  },
  {
   "attachments": {},
   "cell_type": "markdown",
   "metadata": {},
   "source": [
    "#### コンボリューション (畳み込み)\n",
    "- 画像の中の相互に遠いピクセルとはあまり関係ない  \n",
    "  → 周囲のピクセルとの相関だけ見ればよさそう\n",
    "- あるピクセルとその周囲のピクセルとの関係は、画像の中のどのピクセルでもたぶん同じ\n",
    "  - 同じ重みをすべてのピクセルに使い回せる\n",
    "  - 重みの数が飛躍的に減る  \n",
    "    例: 5x5x3 のコンボリューションなら、画像のピクセル数によらず、重みは75個  \n",
    "- チャンネル\n",
    "  - 同じ近傍から別の情報を引き出すために、全く独立した重み群を複数用意する\n",
    "  - 一般に画像系ネットワークの各層は、幅 x 高さ x チャンネル の3次元で構成される\n",
    "\n",
    "<img src=\"images/convolution.svg\" width=\"500\"/>\n",
    "\n",
    "\n",
    "#### プーリング\n",
    "- 層のサイズを減らすために、複数のピクセルの情報を1つに集約する\n",
    "- max pooling - 複数のピクセルの最大値をとる\n",
    "- average pooling - 複数のピクセルの平均値をとる\n",
    "  - 例: 2x2のピクセルを一つのピクセルにまとめる。層のサイズは1/4になる。\n",
    "- プーリングには重みはない  \n",
    "\n",
    "#### ネットワークの例:\n",
    "\n",
    "128 x 128 x 3 の画像を10クラスに分類するネットワークの例\n",
    "\n",
    "http://alexlenail.me/NN-SVG/LeNet.html で作成。\n",
    "\n",
    "<img src=\"images/lenet-cropped.svg\" width=\"800\"/>\n",
    "\n"
   ]
  },
  {
   "attachments": {},
   "cell_type": "markdown",
   "metadata": {},
   "source": [
    "## 5.4 データオーグメンテーション\n",
    "\n",
    "- CNN を訓連するには、大量のデータが必要\n",
    "- シフト不変性、回転不変性をデータで補う必要がある\n",
    "\n",
    "<img src=\"images/invariant.png\" width=\"600\" />\n",
    "\n",
    "- 1枚の画像にさまざまな変換を施して多数の訓連用画像を得る"
   ]
  }
 ],
 "metadata": {
  "kernelspec": {
   "display_name": "base",
   "language": "python",
   "name": "python3"
  },
  "language_info": {
   "codemirror_mode": {
    "name": "ipython",
    "version": 3
   },
   "file_extension": ".py",
   "mimetype": "text/x-python",
   "name": "python",
   "nbconvert_exporter": "python",
   "pygments_lexer": "ipython3",
   "version": "3.8.3 (default, Jul  2 2020, 11:26:31) \n[Clang 10.0.0 ]"
  },
  "orig_nbformat": 4,
  "vscode": {
   "interpreter": {
    "hash": "3c0bef73b2face560ee8e28b9acc9162e941cf31f766c85faafaeb24dcb791f6"
   }
  }
 },
 "nbformat": 4,
 "nbformat_minor": 2
}
