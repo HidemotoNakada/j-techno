{
 "cells": [
  {
   "cell_type": "markdown",
   "id": "c21aa0c0",
   "metadata": {},
   "source": [
    "# 0. はじめに\n",
    "\n",
    "## 0.1 自己紹介\n",
    "\n",
    "- 中田 秀基\n",
    "- 産業技術総合研究所 デジタルアーキテクチャ研究センター\n",
    "- 専門\n",
    "    - 並列計算 / 計算機言語\n",
    "    - 機械学習 / 人工知能\n",
    "\n",
    "- 翻訳書\n",
    "\n",
    "\n",
    "| <img src=\"images/python-book.jpg\" width=\"200\"/> | <img src=\"images/unsupervised.jpg\" width=\"200\"/> | <img src=\"images/pytorch.jpg\" width=\"200\">|\n",
    "| --- | --- | --- |\n",
    "</p>\n",
    "\n",
    "## 0.2 本日の構成\n",
    "\n",
    "1. 機械学習の基礎\n",
    "    1. 人工知能と機械学習\n",
    "    2. 機械学習手法の分類\n",
    "    3. モデルの複雑さと過学習\n",
    "    4. Scikit-learnとPyTorch\n",
    "\n",
    "2. さまざまな機械学習のモデル\n",
    "    1. 教師なし機械学習モデル\n",
    "        1. PCA\n",
    "        2. K-means\n",
    "    2. 教師あり機械学習モデル\n",
    "        1. K-NN法\n",
    "        2. 線形モデル\n",
    "        3. 決定木とそのバリエーション\n",
    "        4. SVM\n",
    "        5. ニューラルネットワークの基礎\n",
    "\n",
    "3. データ表現と特徴量エンジニアリング\n",
    "    1. カテゴリ変数と連続変数\n",
    "    2. ワンホットエンコーディング\n",
    "    3. 交互作用と多項式\n",
    "\n",
    "4. モデルの評価とパラメータチューニング\n",
    "    1. 交差検証\n",
    "    2. グリッドサーチ\n",
    "    3. 評価基準とスコア\n",
    "\n",
    "5. ニューラルネットワークによる画像分類への応用\n",
    "    1. ニューラルネットワークとディープラーニング\n",
    "    2. PyTorchの紹介\n",
    "    3. CNNの構造\n",
    "    4. データオーグメンテーション\n",
    "    5. 転移学習\n",
    "    6. CNNによる犬画像と猫画像の分類\n",
    "\n",
    "6. まとめ（よくある落とし穴）\n",
    "    1. ニューラルネットワークに関するその他の話題\n",
    "        1. GAN\n",
    "        2. 拡散ネットワーク\n",
    "    2. よくある落とし穴\n",
    "        1. 機械学習でできることとできないこと\n",
    "        2. 機械学習でやってはいけないこと\n",
    "\n"
   ]
  },
  {
   "cell_type": "markdown",
   "id": "a6e5a31f",
   "metadata": {},
   "source": [
    "# 1. 機械学習の基礎\n",
    "## 1.1 人工知能と機械学習\n",
    "### 人工知能\n",
    "人工的に知能を模倣しようという試み全般を広く指す\n",
    "- 最適化\n",
    "- 記号推論\n",
    "必ずしも学習を伴わない \\\n",
    "ex. 第5世代 知識を論理で書き下しておいてそれを用いて推論\n",
    "\n",
    "### 機械学習\n"
   ]
  },
  {
   "cell_type": "markdown",
   "id": "b684099a",
   "metadata": {},
   "source": [
    "## 1.1 機械学習とは\n",
    "\n",
    "\n",
    "| test | test 2 |\n",
    "| ---- | --- |\n",
    "| item | item 2|\n"
   ]
  },
  {
   "cell_type": "code",
   "execution_count": 3,
   "id": "998da94e",
   "metadata": {},
   "outputs": [],
   "source": [
    "import matplotlib.pyplot as plt"
   ]
  },
  {
   "cell_type": "code",
   "execution_count": 4,
   "id": "2191624a",
   "metadata": {},
   "outputs": [
    {
     "data": {
      "text/plain": [
       "[<matplotlib.lines.Line2D at 0x7fd048bef5b0>]"
      ]
     },
     "execution_count": 4,
     "metadata": {},
     "output_type": "execute_result"
    },
    {
     "data": {
      "image/png": "[encoded data removed]",
      "text/plain": [
       "<Figure size 432x288 with 1 Axes>"
      ]
     },
     "metadata": {
      "needs_background": "light"
     },
     "output_type": "display_data"
    }
   ],
   "source": [
    "plt.plot([1, 2], [1, 2])"
   ]
  },
  {
   "cell_type": "code",
   "execution_count": null,
   "id": "fb89a35e",
   "metadata": {},
   "outputs": [],
   "source": []
  }
 ],
 "metadata": {
  "kernelspec": {
   "display_name": "Python 3.8.3 64-bit ('base')",
   "language": "python",
   "name": "python3"
  },
  "language_info": {
   "codemirror_mode": {
    "name": "ipython",
    "version": 3
   },
   "file_extension": ".py",
   "mimetype": "text/x-python",
   "name": "python",
   "nbconvert_exporter": "python",
   "pygments_lexer": "ipython3",
   "version": "3.8.3"
  },
  "vscode": {
   "interpreter": {
    "hash": "3c0bef73b2face560ee8e28b9acc9162e941cf31f766c85faafaeb24dcb791f6"
   }
  }
 },
 "nbformat": 4,
 "nbformat_minor": 5
}
