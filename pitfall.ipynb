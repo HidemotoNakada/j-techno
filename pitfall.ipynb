{
 "cells": [
  {
   "cell_type": "markdown",
   "metadata": {},
   "source": [
    "# よくある落とし穴\n",
    "\n",
    "## 訓練データとテストデータのデータ分割方法\n",
    "\n",
    "- 訓練データとテストデータは\n",
    "    - 同じ確率分布から生成されていなければならない\n",
    "    - サンプル同士が似すぎていてはいけない\n",
    "- 分割が不適切だと、モデルの評価結果が不適切になる\n",
    "    - 確率分布が違う => どうやってもテストスコアがよくならない\n",
    "    - 似すぎている => 訓練データを単純に覚えこんだようなモデルでも汎化性能がよく見えてしまう\n"
   ]
  },
  {
   "cell_type": "markdown",
   "metadata": {},
   "source": [
    "## 前処理が不適切\n",
    "- モデルによっては特徴量の標準化が必須\n",
    "    - 必須: 線形モデル、ニューラルネットワーク、k-means など\n",
    "    - 不要: 決定木に基づくモデル\n",
    "- 標準化を行わないと、スケールの大きな特徴量が課題に評価される"
   ]
  },
  {
   "cell_type": "markdown",
   "metadata": {},
   "source": []
  },
  {
   "cell_type": "code",
   "execution_count": null,
   "metadata": {},
   "outputs": [],
   "source": []
  }
 ],
 "metadata": {
  "kernelspec": {
   "display_name": "Python 3.9.12 64-bit ('base')",
   "language": "python",
   "name": "python3"
  },
  "language_info": {
   "codemirror_mode": {
    "name": "ipython",
    "version": 3
   },
   "file_extension": ".py",
   "mimetype": "text/x-python",
   "name": "python",
   "nbconvert_exporter": "python",
   "pygments_lexer": "ipython3",
   "version": "3.9.12 (main, Jun  1 2022, 06:34:44) \n[Clang 12.0.0 ]"
  },
  "orig_nbformat": 4,
  "vscode": {
   "interpreter": {
    "hash": "d69d4c14576bc6cff7b4de4c8595283d8f57e1d51fb0b8ba0be9eef6a6380053"
   }
  }
 },
 "nbformat": 4,
 "nbformat_minor": 2
}
