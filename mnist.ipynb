{
 "cells": [
  {
   "cell_type": "code",
   "execution_count": 26,
   "metadata": {},
   "outputs": [],
   "source": [
    "import torch\n",
    "import torchvision.datasets"
   ]
  },
  {
   "cell_type": "code",
   "execution_count": 27,
   "metadata": {},
   "outputs": [],
   "source": [
    "transform = torchvision.transforms.Compose([\n",
    "    torchvision.transforms.ToTensor(),\n",
    "    torchvision.transforms.Normalize((0.1307,), (0.3081,))\n",
    "])\n",
    "\n",
    "batch_size = 64\n",
    "n_epochs = 3\n",
    "learning_rate = 0.01\n",
    "momentum = 0.5\n",
    "log_interval = 10\n",
    "\n",
    "train_data = torchvision.datasets.MNIST(root='data', train=True, download=True, transform=transform)\n",
    "test_data = torchvision.datasets.MNIST(root='data', train=False, download=True, transform=transform)\n",
    "\n",
    "train_loader = torch.utils.data.DataLoader(train_data, batch_size=batch_size, shuffle=True)\n",
    "test_loader = torch.utils.data.DataLoader(test_data, batch_size=batch_size, shuffle=True)"
   ]
  },
  {
   "cell_type": "code",
   "execution_count": 28,
   "metadata": {},
   "outputs": [
    {
     "data": {
      "image/png": "[encoded data removed]",
      "text/plain": [
       "<Figure size 432x288 with 6 Axes>"
      ]
     },
     "metadata": {},
     "output_type": "display_data"
    }
   ],
   "source": [
    "import matplotlib.pyplot as plt\n",
    "\n",
    "label = train_data.targets.detach().numpy()\n",
    "data = train_data.data.detach().numpy()\n",
    "\n",
    "for i in range(6):\n",
    "  plt.subplot(2,3,i+1)\n",
    "  plt.tight_layout()\n",
    "  plt.imshow(data[i], cmap='gray', interpolation='none')\n",
    "  plt.title(\"Ground Truth: {}\".format(label[i]))\n",
    "  plt.xticks([])\n",
    "  plt.yticks([])\n"
   ]
  },
  {
   "cell_type": "code",
   "execution_count": 29,
   "metadata": {},
   "outputs": [
    {
     "data": {
      "text/plain": [
       "Dataset MNIST\n",
       "    Number of datapoints: 10000\n",
       "    Root location: data\n",
       "    Split: Test\n",
       "    StandardTransform\n",
       "Transform: Compose(\n",
       "               ToTensor()\n",
       "               Normalize(mean=(0.1307,), std=(0.3081,))\n",
       "           )"
      ]
     },
     "execution_count": 29,
     "metadata": {},
     "output_type": "execute_result"
    }
   ],
   "source": [
    "test_data"
   ]
  },
  {
   "cell_type": "code",
   "execution_count": null,
   "metadata": {},
   "outputs": [],
   "source": []
  },
  {
   "cell_type": "markdown",
   "metadata": {},
   "source": [
    "## ネットワークの作成\n",
    "\n",
    "簡単なConvolusion networkを作る。"
   ]
  },
  {
   "cell_type": "code",
   "execution_count": 30,
   "metadata": {},
   "outputs": [],
   "source": [
    "import torch.nn as nn\n",
    "import torch.nn.functional as F\n",
    "import torch.optim as optim\n",
    "\n",
    "class Net(nn.Module):\n",
    "    def __init__(self):\n",
    "        super(Net, self).__init__()\n",
    "        self.conv1 = nn.Conv2d(1, 10, kernel_size=5)\n",
    "        self.conv2 = nn.Conv2d(10, 20, kernel_size=5)\n",
    "        self.conv2_drop = nn.Dropout2d()\n",
    "        self.fc1 = nn.Linear(320, 50)\n",
    "        self.fc2 = nn.Linear(50, 10)\n",
    "\n",
    "    def forward(self, x):\n",
    "        x = F.relu(F.max_pool2d(self.conv1(x), 2))\n",
    "        x = F.relu(F.max_pool2d(self.conv2_drop(self.conv2(x)), 2))\n",
    "        x = x.view(-1, 320)\n",
    "        x = F.relu(self.fc1(x))\n",
    "        x = F.dropout(x, training=self.training)\n",
    "        x = self.fc2(x)\n",
    "        return F.log_softmax(x)"
   ]
  },
  {
   "cell_type": "code",
   "execution_count": 31,
   "metadata": {},
   "outputs": [],
   "source": [
    "network = Net()\n",
    "optimizer = optim.SGD(network.parameters(), lr=learning_rate,\n",
    "                      momentum=momentum)"
   ]
  },
  {
   "cell_type": "code",
   "execution_count": 32,
   "metadata": {},
   "outputs": [],
   "source": [
    "train_losses = []\n",
    "train_counter = []\n",
    "train_acc = []\n",
    "test_losses = []\n",
    "test_counter = [i*len(train_loader.dataset) for i in range(n_epochs + 1)]\n",
    "test_acc = []\n"
   ]
  },
  {
   "cell_type": "code",
   "execution_count": 33,
   "metadata": {},
   "outputs": [],
   "source": [
    "def train(epoch):\n",
    "  network.train()\n",
    "  for batch_idx, (data, target) in enumerate(train_loader):\n",
    "    optimizer.zero_grad()\n",
    "    output = network(data)\n",
    "    loss = F.nll_loss(output, target)\n",
    "    loss.backward()\n",
    "    optimizer.step()\n",
    "    if batch_idx % log_interval == 0:\n",
    "      print('Train Epoch: {} [{}/{} ({:.0f}%)]\\tLoss: {:.6f}'.format(\n",
    "        epoch, batch_idx * len(data), len(train_loader.dataset),\n",
    "        100. * batch_idx / len(train_loader), loss.item()))\n",
    "      train_losses.append(loss.item())\n",
    "      train_counter.append(\n",
    "        (batch_idx*64) + ((epoch-1)*len(train_loader.dataset)))\n",
    "      torch.save(network.state_dict(), 'results/model.pth')\n",
    "      torch.save(optimizer.state_dict(), 'results/optimizer.pth')"
   ]
  },
  {
   "cell_type": "code",
   "execution_count": 34,
   "metadata": {},
   "outputs": [],
   "source": [
    "def test(loader, label, accuracy_list):\n",
    "  network.eval()\n",
    "  test_loss = 0\n",
    "  correct = 0\n",
    "  with torch.no_grad():\n",
    "    for data, target in loader:\n",
    "      output = network(data)\n",
    "      test_loss += F.nll_loss(output, target, size_average=False).item()\n",
    "      pred = output.data.max(1, keepdim=True)[1]\n",
    "      correct += pred.eq(target.data.view_as(pred)).sum()\n",
    "  test_loss /= len(loader.dataset)\n",
    "  if label == \"Test\":\n",
    "    test_losses.append(test_loss)\n",
    "  acc = 100. * correct / len(loader.dataset)\n",
    "  print('\\n {} set: Avg. loss: {:.4f}, Accuracy: {}/{} ({:.0f}%)'.format(\n",
    "    label, test_loss, correct, len(loader.dataset),\n",
    "    acc))\n",
    "  accuracy_list.append(acc)"
   ]
  },
  {
   "cell_type": "code",
   "execution_count": 35,
   "metadata": {},
   "outputs": [
    {
     "name": "stderr",
     "output_type": "stream",
     "text": [
      "/var/folders/_f/dfbsw9dn23jc6nzz9v7xnjvh0000gn/T/ipykernel_67980/1255250890.py:21: UserWarning: Implicit dimension choice for log_softmax has been deprecated. Change the call to include dim=X as an argument.\n",
      "  return F.log_softmax(x)\n"
     ]
    },
    {
     "name": "stdout",
     "output_type": "stream",
     "text": [
      "\n",
      " Train set: Avg. loss: 2.3087, Accuracy: 6266/60000 (10%)\n",
      "\n",
      " Test set: Avg. loss: 2.3108, Accuracy: 994/10000 (10%)\n",
      "Train Epoch: 1 [0/60000 (0%)]\tLoss: 2.331829\n",
      "Train Epoch: 1 [640/60000 (1%)]\tLoss: 2.314716\n",
      "Train Epoch: 1 [1280/60000 (2%)]\tLoss: 2.262553\n",
      "Train Epoch: 1 [1920/60000 (3%)]\tLoss: 2.272094\n",
      "Train Epoch: 1 [2560/60000 (4%)]\tLoss: 2.284737\n",
      "Train Epoch: 1 [3200/60000 (5%)]\tLoss: 2.244190\n",
      "Train Epoch: 1 [3840/60000 (6%)]\tLoss: 2.247749\n",
      "Train Epoch: 1 [4480/60000 (7%)]\tLoss: 2.239574\n",
      "Train Epoch: 1 [5120/60000 (9%)]\tLoss: 2.147697\n",
      "Train Epoch: 1 [5760/60000 (10%)]\tLoss: 2.115968\n",
      "Train Epoch: 1 [6400/60000 (11%)]\tLoss: 2.159498\n",
      "Train Epoch: 1 [7040/60000 (12%)]\tLoss: 2.090452\n",
      "Train Epoch: 1 [7680/60000 (13%)]\tLoss: 1.932752\n",
      "Train Epoch: 1 [8320/60000 (14%)]\tLoss: 1.989896\n",
      "Train Epoch: 1 [8960/60000 (15%)]\tLoss: 1.691921\n",
      "Train Epoch: 1 [9600/60000 (16%)]\tLoss: 1.746619\n",
      "Train Epoch: 1 [10240/60000 (17%)]\tLoss: 1.530358\n",
      "Train Epoch: 1 [10880/60000 (18%)]\tLoss: 1.713600\n",
      "Train Epoch: 1 [11520/60000 (19%)]\tLoss: 1.638258\n",
      "Train Epoch: 1 [12160/60000 (20%)]\tLoss: 1.585173\n",
      "Train Epoch: 1 [12800/60000 (21%)]\tLoss: 1.405683\n",
      "Train Epoch: 1 [13440/60000 (22%)]\tLoss: 1.164597\n",
      "Train Epoch: 1 [14080/60000 (23%)]\tLoss: 1.185426\n",
      "Train Epoch: 1 [14720/60000 (25%)]\tLoss: 1.121277\n",
      "Train Epoch: 1 [15360/60000 (26%)]\tLoss: 1.153155\n",
      "Train Epoch: 1 [16000/60000 (27%)]\tLoss: 1.135016\n",
      "Train Epoch: 1 [16640/60000 (28%)]\tLoss: 1.057692\n",
      "Train Epoch: 1 [17280/60000 (29%)]\tLoss: 0.982656\n",
      "Train Epoch: 1 [17920/60000 (30%)]\tLoss: 1.053980\n",
      "Train Epoch: 1 [18560/60000 (31%)]\tLoss: 0.948254\n",
      "Train Epoch: 1 [19200/60000 (32%)]\tLoss: 0.981815\n",
      "Train Epoch: 1 [19840/60000 (33%)]\tLoss: 0.898636\n",
      "Train Epoch: 1 [20480/60000 (34%)]\tLoss: 1.011305\n",
      "Train Epoch: 1 [21120/60000 (35%)]\tLoss: 0.762211\n",
      "Train Epoch: 1 [21760/60000 (36%)]\tLoss: 0.823772\n",
      "Train Epoch: 1 [22400/60000 (37%)]\tLoss: 0.773702\n",
      "Train Epoch: 1 [23040/60000 (38%)]\tLoss: 0.766315\n",
      "Train Epoch: 1 [23680/60000 (39%)]\tLoss: 1.100689\n",
      "Train Epoch: 1 [24320/60000 (41%)]\tLoss: 0.804825\n",
      "Train Epoch: 1 [24960/60000 (42%)]\tLoss: 0.886413\n",
      "Train Epoch: 1 [25600/60000 (43%)]\tLoss: 0.961276\n",
      "Train Epoch: 1 [26240/60000 (44%)]\tLoss: 0.936464\n",
      "Train Epoch: 1 [26880/60000 (45%)]\tLoss: 0.557549\n",
      "Train Epoch: 1 [27520/60000 (46%)]\tLoss: 0.768099\n",
      "Train Epoch: 1 [28160/60000 (47%)]\tLoss: 0.591518\n",
      "Train Epoch: 1 [28800/60000 (48%)]\tLoss: 0.656992\n",
      "Train Epoch: 1 [29440/60000 (49%)]\tLoss: 0.886534\n",
      "Train Epoch: 1 [30080/60000 (50%)]\tLoss: 0.817917\n",
      "Train Epoch: 1 [30720/60000 (51%)]\tLoss: 0.602345\n",
      "Train Epoch: 1 [31360/60000 (52%)]\tLoss: 0.574517\n",
      "Train Epoch: 1 [32000/60000 (53%)]\tLoss: 0.761727\n",
      "Train Epoch: 1 [32640/60000 (54%)]\tLoss: 0.711954\n",
      "Train Epoch: 1 [33280/60000 (55%)]\tLoss: 0.724293\n",
      "Train Epoch: 1 [33920/60000 (57%)]\tLoss: 0.675976\n",
      "Train Epoch: 1 [34560/60000 (58%)]\tLoss: 0.439618\n",
      "Train Epoch: 1 [35200/60000 (59%)]\tLoss: 0.774081\n",
      "Train Epoch: 1 [35840/60000 (60%)]\tLoss: 0.852004\n",
      "Train Epoch: 1 [36480/60000 (61%)]\tLoss: 0.732253\n",
      "Train Epoch: 1 [37120/60000 (62%)]\tLoss: 0.626906\n",
      "Train Epoch: 1 [37760/60000 (63%)]\tLoss: 0.421135\n",
      "Train Epoch: 1 [38400/60000 (64%)]\tLoss: 0.490016\n",
      "Train Epoch: 1 [39040/60000 (65%)]\tLoss: 0.530638\n",
      "Train Epoch: 1 [39680/60000 (66%)]\tLoss: 0.693084\n",
      "Train Epoch: 1 [40320/60000 (67%)]\tLoss: 0.742454\n",
      "Train Epoch: 1 [40960/60000 (68%)]\tLoss: 0.553716\n",
      "Train Epoch: 1 [41600/60000 (69%)]\tLoss: 0.485623\n",
      "Train Epoch: 1 [42240/60000 (70%)]\tLoss: 0.561403\n",
      "Train Epoch: 1 [42880/60000 (71%)]\tLoss: 0.508430\n",
      "Train Epoch: 1 [43520/60000 (72%)]\tLoss: 0.460933\n",
      "Train Epoch: 1 [44160/60000 (74%)]\tLoss: 0.531554\n",
      "Train Epoch: 1 [44800/60000 (75%)]\tLoss: 0.847867\n",
      "Train Epoch: 1 [45440/60000 (76%)]\tLoss: 0.454615\n",
      "Train Epoch: 1 [46080/60000 (77%)]\tLoss: 0.621731\n",
      "Train Epoch: 1 [46720/60000 (78%)]\tLoss: 0.807062\n",
      "Train Epoch: 1 [47360/60000 (79%)]\tLoss: 0.621165\n",
      "Train Epoch: 1 [48000/60000 (80%)]\tLoss: 0.767214\n",
      "Train Epoch: 1 [48640/60000 (81%)]\tLoss: 0.474737\n",
      "Train Epoch: 1 [49280/60000 (82%)]\tLoss: 0.515519\n",
      "Train Epoch: 1 [49920/60000 (83%)]\tLoss: 0.598247\n",
      "Train Epoch: 1 [50560/60000 (84%)]\tLoss: 0.608566\n",
      "Train Epoch: 1 [51200/60000 (85%)]\tLoss: 0.496857\n",
      "Train Epoch: 1 [51840/60000 (86%)]\tLoss: 0.311851\n",
      "Train Epoch: 1 [52480/60000 (87%)]\tLoss: 0.611873\n",
      "Train Epoch: 1 [53120/60000 (88%)]\tLoss: 0.479778\n",
      "Train Epoch: 1 [53760/60000 (90%)]\tLoss: 0.713096\n",
      "Train Epoch: 1 [54400/60000 (91%)]\tLoss: 0.367429\n",
      "Train Epoch: 1 [55040/60000 (92%)]\tLoss: 0.469436\n",
      "Train Epoch: 1 [55680/60000 (93%)]\tLoss: 0.577246\n",
      "Train Epoch: 1 [56320/60000 (94%)]\tLoss: 0.253368\n",
      "Train Epoch: 1 [56960/60000 (95%)]\tLoss: 0.435262\n",
      "Train Epoch: 1 [57600/60000 (96%)]\tLoss: 0.351395\n",
      "Train Epoch: 1 [58240/60000 (97%)]\tLoss: 0.419704\n",
      "Train Epoch: 1 [58880/60000 (98%)]\tLoss: 0.478442\n",
      "Train Epoch: 1 [59520/60000 (99%)]\tLoss: 0.404684\n",
      "\n",
      " Train set: Avg. loss: 0.2270, Accuracy: 56025/60000 (93%)\n",
      "\n",
      " Test set: Avg. loss: 0.2094, Accuracy: 9393/10000 (94%)\n",
      "Train Epoch: 2 [0/60000 (0%)]\tLoss: 0.561456\n",
      "Train Epoch: 2 [640/60000 (1%)]\tLoss: 0.539556\n",
      "Train Epoch: 2 [1280/60000 (2%)]\tLoss: 0.423534\n",
      "Train Epoch: 2 [1920/60000 (3%)]\tLoss: 0.663376\n",
      "Train Epoch: 2 [2560/60000 (4%)]\tLoss: 0.285096\n",
      "Train Epoch: 2 [3200/60000 (5%)]\tLoss: 0.892283\n",
      "Train Epoch: 2 [3840/60000 (6%)]\tLoss: 0.431236\n",
      "Train Epoch: 2 [4480/60000 (7%)]\tLoss: 0.538220\n",
      "Train Epoch: 2 [5120/60000 (9%)]\tLoss: 0.387700\n",
      "Train Epoch: 2 [5760/60000 (10%)]\tLoss: 0.451264\n",
      "Train Epoch: 2 [6400/60000 (11%)]\tLoss: 0.303771\n",
      "Train Epoch: 2 [7040/60000 (12%)]\tLoss: 0.339008\n",
      "Train Epoch: 2 [7680/60000 (13%)]\tLoss: 0.489307\n",
      "Train Epoch: 2 [8320/60000 (14%)]\tLoss: 0.626939\n",
      "Train Epoch: 2 [8960/60000 (15%)]\tLoss: 0.429133\n",
      "Train Epoch: 2 [9600/60000 (16%)]\tLoss: 0.641967\n",
      "Train Epoch: 2 [10240/60000 (17%)]\tLoss: 0.694929\n",
      "Train Epoch: 2 [10880/60000 (18%)]\tLoss: 0.521655\n",
      "Train Epoch: 2 [11520/60000 (19%)]\tLoss: 0.389358\n",
      "Train Epoch: 2 [12160/60000 (20%)]\tLoss: 0.408724\n",
      "Train Epoch: 2 [12800/60000 (21%)]\tLoss: 0.476457\n",
      "Train Epoch: 2 [13440/60000 (22%)]\tLoss: 0.401055\n",
      "Train Epoch: 2 [14080/60000 (23%)]\tLoss: 0.235160\n",
      "Train Epoch: 2 [14720/60000 (25%)]\tLoss: 0.729848\n",
      "Train Epoch: 2 [15360/60000 (26%)]\tLoss: 0.338777\n",
      "Train Epoch: 2 [16000/60000 (27%)]\tLoss: 0.507646\n",
      "Train Epoch: 2 [16640/60000 (28%)]\tLoss: 0.347855\n",
      "Train Epoch: 2 [17280/60000 (29%)]\tLoss: 0.413764\n",
      "Train Epoch: 2 [17920/60000 (30%)]\tLoss: 0.480699\n",
      "Train Epoch: 2 [18560/60000 (31%)]\tLoss: 0.533498\n",
      "Train Epoch: 2 [19200/60000 (32%)]\tLoss: 0.593583\n",
      "Train Epoch: 2 [19840/60000 (33%)]\tLoss: 0.754492\n",
      "Train Epoch: 2 [20480/60000 (34%)]\tLoss: 0.413565\n",
      "Train Epoch: 2 [21120/60000 (35%)]\tLoss: 0.313072\n",
      "Train Epoch: 2 [21760/60000 (36%)]\tLoss: 0.281176\n",
      "Train Epoch: 2 [22400/60000 (37%)]\tLoss: 0.266325\n",
      "Train Epoch: 2 [23040/60000 (38%)]\tLoss: 0.560866\n",
      "Train Epoch: 2 [23680/60000 (39%)]\tLoss: 0.231229\n",
      "Train Epoch: 2 [24320/60000 (41%)]\tLoss: 0.295170\n",
      "Train Epoch: 2 [24960/60000 (42%)]\tLoss: 0.322735\n",
      "Train Epoch: 2 [25600/60000 (43%)]\tLoss: 0.241765\n",
      "Train Epoch: 2 [26240/60000 (44%)]\tLoss: 0.464053\n",
      "Train Epoch: 2 [26880/60000 (45%)]\tLoss: 0.317260\n",
      "Train Epoch: 2 [27520/60000 (46%)]\tLoss: 0.318545\n",
      "Train Epoch: 2 [28160/60000 (47%)]\tLoss: 0.411438\n",
      "Train Epoch: 2 [28800/60000 (48%)]\tLoss: 0.520870\n",
      "Train Epoch: 2 [29440/60000 (49%)]\tLoss: 0.264905\n",
      "Train Epoch: 2 [30080/60000 (50%)]\tLoss: 0.533091\n",
      "Train Epoch: 2 [30720/60000 (51%)]\tLoss: 0.411595\n",
      "Train Epoch: 2 [31360/60000 (52%)]\tLoss: 0.327550\n",
      "Train Epoch: 2 [32000/60000 (53%)]\tLoss: 0.601559\n",
      "Train Epoch: 2 [32640/60000 (54%)]\tLoss: 0.283922\n",
      "Train Epoch: 2 [33280/60000 (55%)]\tLoss: 0.513340\n",
      "Train Epoch: 2 [33920/60000 (57%)]\tLoss: 0.394088\n",
      "Train Epoch: 2 [34560/60000 (58%)]\tLoss: 0.216190\n",
      "Train Epoch: 2 [35200/60000 (59%)]\tLoss: 0.456344\n",
      "Train Epoch: 2 [35840/60000 (60%)]\tLoss: 0.423611\n",
      "Train Epoch: 2 [36480/60000 (61%)]\tLoss: 0.290489\n",
      "Train Epoch: 2 [37120/60000 (62%)]\tLoss: 0.475403\n",
      "Train Epoch: 2 [37760/60000 (63%)]\tLoss: 0.470026\n",
      "Train Epoch: 2 [38400/60000 (64%)]\tLoss: 0.454463\n",
      "Train Epoch: 2 [39040/60000 (65%)]\tLoss: 0.461304\n",
      "Train Epoch: 2 [39680/60000 (66%)]\tLoss: 0.348161\n",
      "Train Epoch: 2 [40320/60000 (67%)]\tLoss: 0.488373\n",
      "Train Epoch: 2 [40960/60000 (68%)]\tLoss: 0.335030\n",
      "Train Epoch: 2 [41600/60000 (69%)]\tLoss: 0.578104\n",
      "Train Epoch: 2 [42240/60000 (70%)]\tLoss: 0.423903\n",
      "Train Epoch: 2 [42880/60000 (71%)]\tLoss: 0.301858\n",
      "Train Epoch: 2 [43520/60000 (72%)]\tLoss: 0.380674\n",
      "Train Epoch: 2 [44160/60000 (74%)]\tLoss: 0.382752\n",
      "Train Epoch: 2 [44800/60000 (75%)]\tLoss: 0.437096\n",
      "Train Epoch: 2 [45440/60000 (76%)]\tLoss: 0.385614\n",
      "Train Epoch: 2 [46080/60000 (77%)]\tLoss: 0.375279\n",
      "Train Epoch: 2 [46720/60000 (78%)]\tLoss: 0.430475\n",
      "Train Epoch: 2 [47360/60000 (79%)]\tLoss: 0.364500\n",
      "Train Epoch: 2 [48000/60000 (80%)]\tLoss: 0.341206\n",
      "Train Epoch: 2 [48640/60000 (81%)]\tLoss: 0.324755\n",
      "Train Epoch: 2 [49280/60000 (82%)]\tLoss: 0.448563\n",
      "Train Epoch: 2 [49920/60000 (83%)]\tLoss: 0.278467\n",
      "Train Epoch: 2 [50560/60000 (84%)]\tLoss: 0.315755\n",
      "Train Epoch: 2 [51200/60000 (85%)]\tLoss: 0.295954\n",
      "Train Epoch: 2 [51840/60000 (86%)]\tLoss: 0.175004\n",
      "Train Epoch: 2 [52480/60000 (87%)]\tLoss: 0.237179\n",
      "Train Epoch: 2 [53120/60000 (88%)]\tLoss: 0.482967\n",
      "Train Epoch: 2 [53760/60000 (90%)]\tLoss: 0.284390\n",
      "Train Epoch: 2 [54400/60000 (91%)]\tLoss: 0.603755\n",
      "Train Epoch: 2 [55040/60000 (92%)]\tLoss: 0.183493\n",
      "Train Epoch: 2 [55680/60000 (93%)]\tLoss: 0.396875\n",
      "Train Epoch: 2 [56320/60000 (94%)]\tLoss: 0.288231\n",
      "Train Epoch: 2 [56960/60000 (95%)]\tLoss: 0.405472\n",
      "Train Epoch: 2 [57600/60000 (96%)]\tLoss: 0.615460\n",
      "Train Epoch: 2 [58240/60000 (97%)]\tLoss: 0.101840\n",
      "Train Epoch: 2 [58880/60000 (98%)]\tLoss: 0.346235\n",
      "Train Epoch: 2 [59520/60000 (99%)]\tLoss: 0.341131\n",
      "\n",
      " Train set: Avg. loss: 0.1362, Accuracy: 57489/60000 (96%)\n",
      "\n",
      " Test set: Avg. loss: 0.1259, Accuracy: 9612/10000 (96%)\n",
      "Train Epoch: 3 [0/60000 (0%)]\tLoss: 0.352898\n",
      "Train Epoch: 3 [640/60000 (1%)]\tLoss: 0.247323\n",
      "Train Epoch: 3 [1280/60000 (2%)]\tLoss: 0.273611\n",
      "Train Epoch: 3 [1920/60000 (3%)]\tLoss: 0.235782\n",
      "Train Epoch: 3 [2560/60000 (4%)]\tLoss: 0.387428\n",
      "Train Epoch: 3 [3200/60000 (5%)]\tLoss: 0.264424\n",
      "Train Epoch: 3 [3840/60000 (6%)]\tLoss: 0.166836\n",
      "Train Epoch: 3 [4480/60000 (7%)]\tLoss: 0.447071\n",
      "Train Epoch: 3 [5120/60000 (9%)]\tLoss: 0.147190\n",
      "Train Epoch: 3 [5760/60000 (10%)]\tLoss: 0.512682\n",
      "Train Epoch: 3 [6400/60000 (11%)]\tLoss: 0.355711\n",
      "Train Epoch: 3 [7040/60000 (12%)]\tLoss: 0.297541\n",
      "Train Epoch: 3 [7680/60000 (13%)]\tLoss: 0.181843\n",
      "Train Epoch: 3 [8320/60000 (14%)]\tLoss: 0.244582\n",
      "Train Epoch: 3 [8960/60000 (15%)]\tLoss: 0.503348\n",
      "Train Epoch: 3 [9600/60000 (16%)]\tLoss: 0.438061\n",
      "Train Epoch: 3 [10240/60000 (17%)]\tLoss: 0.346784\n",
      "Train Epoch: 3 [10880/60000 (18%)]\tLoss: 0.303753\n",
      "Train Epoch: 3 [11520/60000 (19%)]\tLoss: 0.179496\n",
      "Train Epoch: 3 [12160/60000 (20%)]\tLoss: 0.371271\n",
      "Train Epoch: 3 [12800/60000 (21%)]\tLoss: 0.385290\n",
      "Train Epoch: 3 [13440/60000 (22%)]\tLoss: 0.234224\n",
      "Train Epoch: 3 [14080/60000 (23%)]\tLoss: 0.353042\n",
      "Train Epoch: 3 [14720/60000 (25%)]\tLoss: 0.260733\n",
      "Train Epoch: 3 [15360/60000 (26%)]\tLoss: 0.479292\n",
      "Train Epoch: 3 [16000/60000 (27%)]\tLoss: 0.439585\n",
      "Train Epoch: 3 [16640/60000 (28%)]\tLoss: 0.164554\n",
      "Train Epoch: 3 [17280/60000 (29%)]\tLoss: 0.226609\n",
      "Train Epoch: 3 [17920/60000 (30%)]\tLoss: 0.186993\n",
      "Train Epoch: 3 [18560/60000 (31%)]\tLoss: 0.274371\n",
      "Train Epoch: 3 [19200/60000 (32%)]\tLoss: 0.471902\n",
      "Train Epoch: 3 [19840/60000 (33%)]\tLoss: 0.179171\n",
      "Train Epoch: 3 [20480/60000 (34%)]\tLoss: 0.145935\n",
      "Train Epoch: 3 [21120/60000 (35%)]\tLoss: 0.287970\n",
      "Train Epoch: 3 [21760/60000 (36%)]\tLoss: 0.318516\n",
      "Train Epoch: 3 [22400/60000 (37%)]\tLoss: 0.274180\n",
      "Train Epoch: 3 [23040/60000 (38%)]\tLoss: 0.353511\n",
      "Train Epoch: 3 [23680/60000 (39%)]\tLoss: 0.355374\n",
      "Train Epoch: 3 [24320/60000 (41%)]\tLoss: 0.189832\n",
      "Train Epoch: 3 [24960/60000 (42%)]\tLoss: 0.352746\n",
      "Train Epoch: 3 [25600/60000 (43%)]\tLoss: 0.526294\n",
      "Train Epoch: 3 [26240/60000 (44%)]\tLoss: 0.302918\n",
      "Train Epoch: 3 [26880/60000 (45%)]\tLoss: 0.302028\n",
      "Train Epoch: 3 [27520/60000 (46%)]\tLoss: 0.157964\n",
      "Train Epoch: 3 [28160/60000 (47%)]\tLoss: 0.522272\n",
      "Train Epoch: 3 [28800/60000 (48%)]\tLoss: 0.328514\n",
      "Train Epoch: 3 [29440/60000 (49%)]\tLoss: 0.243062\n",
      "Train Epoch: 3 [30080/60000 (50%)]\tLoss: 0.446470\n",
      "Train Epoch: 3 [30720/60000 (51%)]\tLoss: 0.165727\n",
      "Train Epoch: 3 [31360/60000 (52%)]\tLoss: 0.348056\n",
      "Train Epoch: 3 [32000/60000 (53%)]\tLoss: 0.529340\n",
      "Train Epoch: 3 [32640/60000 (54%)]\tLoss: 0.145546\n",
      "Train Epoch: 3 [33280/60000 (55%)]\tLoss: 0.273527\n",
      "Train Epoch: 3 [33920/60000 (57%)]\tLoss: 0.303035\n",
      "Train Epoch: 3 [34560/60000 (58%)]\tLoss: 0.135969\n",
      "Train Epoch: 3 [35200/60000 (59%)]\tLoss: 0.162516\n",
      "Train Epoch: 3 [35840/60000 (60%)]\tLoss: 0.322692\n",
      "Train Epoch: 3 [36480/60000 (61%)]\tLoss: 0.186000\n",
      "Train Epoch: 3 [37120/60000 (62%)]\tLoss: 0.222470\n",
      "Train Epoch: 3 [37760/60000 (63%)]\tLoss: 0.606690\n",
      "Train Epoch: 3 [38400/60000 (64%)]\tLoss: 0.195977\n",
      "Train Epoch: 3 [39040/60000 (65%)]\tLoss: 0.281361\n",
      "Train Epoch: 3 [39680/60000 (66%)]\tLoss: 0.637005\n",
      "Train Epoch: 3 [40320/60000 (67%)]\tLoss: 0.226717\n",
      "Train Epoch: 3 [40960/60000 (68%)]\tLoss: 0.281379\n",
      "Train Epoch: 3 [41600/60000 (69%)]\tLoss: 0.241897\n",
      "Train Epoch: 3 [42240/60000 (70%)]\tLoss: 0.526176\n",
      "Train Epoch: 3 [42880/60000 (71%)]\tLoss: 0.187982\n",
      "Train Epoch: 3 [43520/60000 (72%)]\tLoss: 0.214234\n",
      "Train Epoch: 3 [44160/60000 (74%)]\tLoss: 0.152049\n",
      "Train Epoch: 3 [44800/60000 (75%)]\tLoss: 0.372429\n",
      "Train Epoch: 3 [45440/60000 (76%)]\tLoss: 0.401403\n",
      "Train Epoch: 3 [46080/60000 (77%)]\tLoss: 0.225321\n",
      "Train Epoch: 3 [46720/60000 (78%)]\tLoss: 0.514155\n",
      "Train Epoch: 3 [47360/60000 (79%)]\tLoss: 0.308541\n",
      "Train Epoch: 3 [48000/60000 (80%)]\tLoss: 0.257299\n",
      "Train Epoch: 3 [48640/60000 (81%)]\tLoss: 0.224700\n",
      "Train Epoch: 3 [49280/60000 (82%)]\tLoss: 0.203262\n",
      "Train Epoch: 3 [49920/60000 (83%)]\tLoss: 0.160065\n",
      "Train Epoch: 3 [50560/60000 (84%)]\tLoss: 0.281520\n",
      "Train Epoch: 3 [51200/60000 (85%)]\tLoss: 0.204858\n",
      "Train Epoch: 3 [51840/60000 (86%)]\tLoss: 0.269376\n",
      "Train Epoch: 3 [52480/60000 (87%)]\tLoss: 0.244640\n",
      "Train Epoch: 3 [53120/60000 (88%)]\tLoss: 0.338390\n",
      "Train Epoch: 3 [53760/60000 (90%)]\tLoss: 0.279472\n",
      "Train Epoch: 3 [54400/60000 (91%)]\tLoss: 0.172384\n",
      "Train Epoch: 3 [55040/60000 (92%)]\tLoss: 0.225066\n",
      "Train Epoch: 3 [55680/60000 (93%)]\tLoss: 0.191529\n",
      "Train Epoch: 3 [56320/60000 (94%)]\tLoss: 0.278485\n",
      "Train Epoch: 3 [56960/60000 (95%)]\tLoss: 0.349319\n",
      "Train Epoch: 3 [57600/60000 (96%)]\tLoss: 0.285219\n",
      "Train Epoch: 3 [58240/60000 (97%)]\tLoss: 0.299206\n",
      "Train Epoch: 3 [58880/60000 (98%)]\tLoss: 0.236537\n",
      "Train Epoch: 3 [59520/60000 (99%)]\tLoss: 0.354549\n",
      "\n",
      " Train set: Avg. loss: 0.1022, Accuracy: 58140/60000 (97%)\n",
      "\n",
      " Test set: Avg. loss: 0.0944, Accuracy: 9710/10000 (97%)\n"
     ]
    }
   ],
   "source": [
    "test(train_loader, 'Train', train_acc)\n",
    "test(test_loader, 'Test', test_acc)\n",
    "for epoch in range(1, n_epochs + 1):\n",
    "  train(epoch)\n",
    "  test(train_loader, 'Train', train_acc)\n",
    "  test(test_loader, 'Test', test_acc)"
   ]
  },
  {
   "cell_type": "code",
   "execution_count": 36,
   "metadata": {},
   "outputs": [
    {
     "data": {
      "text/plain": [
       "Text(0, 0.5, 'negative log likelihood loss')"
      ]
     },
     "execution_count": 36,
     "metadata": {},
     "output_type": "execute_result"
    },
    {
     "data": {
      "image/png": "[encoded data removed]",
      "text/plain": [
       "<Figure size 432x288 with 1 Axes>"
      ]
     },
     "metadata": {
      "needs_background": "light"
     },
     "output_type": "display_data"
    }
   ],
   "source": [
    "plt.plot(train_counter, train_losses, color='blue')\n",
    "plt.scatter(test_counter, test_losses, color='red')\n",
    "plt.legend(['Train Loss', 'Test Loss'], loc='upper right')\n",
    "plt.xlabel('number of training examples seen')\n",
    "plt.ylabel('negative log likelihood loss')"
   ]
  },
  {
   "cell_type": "code",
   "execution_count": 37,
   "metadata": {},
   "outputs": [
    {
     "data": {
      "text/plain": [
       "(80.0, 100.0)"
      ]
     },
     "execution_count": 37,
     "metadata": {},
     "output_type": "execute_result"
    },
    {
     "data": {
      "image/png": "[encoded data removed]",
      "text/plain": [
       "<Figure size 432x288 with 1 Axes>"
      ]
     },
     "metadata": {
      "needs_background": "light"
     },
     "output_type": "display_data"
    }
   ],
   "source": [
    "plt.plot(test_counter, train_acc, color='blue')\n",
    "plt.plot(test_counter, test_acc, color='red')\n",
    "plt.legend(['Train Acc', 'Test Acc'], loc='lower right')\n",
    "plt.xlabel('number of training examples seen')\n",
    "plt.ylabel('accuracy')\n",
    "plt.ylim(80, 100)"
   ]
  },
  {
   "cell_type": "code",
   "execution_count": 38,
   "metadata": {},
   "outputs": [
    {
     "data": {
      "text/plain": [
       "([tensor(9.9400), tensor(93.9300), tensor(96.1200), tensor(97.1000)],\n",
       " [tensor(10.4433), tensor(93.3750), tensor(95.8150), tensor(96.9000)])"
      ]
     },
     "execution_count": 38,
     "metadata": {},
     "output_type": "execute_result"
    }
   ],
   "source": [
    "test_acc, train_acc\n"
   ]
  },
  {
   "cell_type": "code",
   "execution_count": 39,
   "metadata": {},
   "outputs": [
    {
     "data": {
      "text/plain": [
       "[tensor(10.4433), tensor(93.3750), tensor(95.8150), tensor(96.9000)]"
      ]
     },
     "execution_count": 39,
     "metadata": {},
     "output_type": "execute_result"
    }
   ],
   "source": [
    "train_acc"
   ]
  },
  {
   "cell_type": "code",
   "execution_count": null,
   "metadata": {},
   "outputs": [],
   "source": []
  }
 ],
 "metadata": {
  "kernelspec": {
   "display_name": "Python 3.9.12 64-bit ('base')",
   "language": "python",
   "name": "python3"
  },
  "language_info": {
   "codemirror_mode": {
    "name": "ipython",
    "version": 3
   },
   "file_extension": ".py",
   "mimetype": "text/x-python",
   "name": "python",
   "nbconvert_exporter": "python",
   "pygments_lexer": "ipython3",
   "version": "3.9.12"
  },
  "orig_nbformat": 4,
  "vscode": {
   "interpreter": {
    "hash": "b76a7fc8b0eb3dbbbba7561074da9a527f07784f311e8f09221f65192bf914c6"
   }
  }
 },
 "nbformat": 4,
 "nbformat_minor": 2
}
